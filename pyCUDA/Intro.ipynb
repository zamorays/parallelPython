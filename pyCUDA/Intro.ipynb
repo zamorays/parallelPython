{
 "cells": [
  {
   "cell_type": "markdown",
   "metadata": {
    "deletable": true,
    "editable": true
   },
   "source": [
    "# PyCUDA basics."
   ]
  },
  {
   "cell_type": "code",
   "execution_count": 1,
   "metadata": {
    "collapsed": false,
    "deletable": true,
    "editable": true
   },
   "outputs": [
    {
     "data": {
      "text/html": [
       "<!-- extracted from https://gist.github.com/magican/5574556 -->\n",
       "<div id=\"toc-wrapper\">\n",
       "    <div class=\"header\">Contents <a href=\"#\" class=\"hide-btn\">[hide]</a></div>\n",
       "    <div id=\"toc\"></div>\n",
       "</div>\n",
       " \n",
       "<style>\n",
       "  #toc {\n",
       "    overflow-y: scroll;\n",
       "    max-height: 300px;\n",
       "  }\n",
       "  #toc-wrapper {\n",
       "    position: fixed; top: 120px; max-width:430px; right: 20px;\n",
       "    border: thin solid rgba(0, 0, 0, 0.38); opacity: .8;\n",
       "    border-radius: 5px; background-color: #fff; padding:10px;\n",
       "    z-index: 100;\n",
       "  }\n",
       "  #toc-wrapper.closed {\n",
       "      min-width: 100px;\n",
       "      width: auto;\n",
       "      transition: width;\n",
       "  }\n",
       "  #toc-wrapper:hover{\n",
       "      opacity:1;\n",
       "  }\n",
       "  #toc-wrapper .header {\n",
       "      font-size:18px; font-weight: bold;\n",
       "  }\n",
       "  #toc-wrapper .hide-btn {\n",
       "      font-size: 14px;\n",
       "  }\n",
       " \n",
       "</style>\n",
       "\n",
       "<style>\n",
       "  ol.nested {\n",
       "    counter-reset: item;\n",
       "    list-style: none;\n",
       "  }\n",
       "  li.nested {\n",
       "        display: block;\n",
       "    }\n",
       "  li.nested:before {\n",
       "        counter-increment: item;\n",
       "        content: counters(item, \".\")\" \";\n",
       "    }\n",
       "</style>\n"
      ]
     },
     "metadata": {},
     "output_type": "display_data"
    },
    {
     "data": {
      "application/javascript": [
       "// adapted from https://gist.github.com/magican/5574556\n",
       "\n",
       "function clone_anchor(element) {\n",
       "  // clone link\n",
       "  var h = element.find(\"div.text_cell_render\").find(':header').first();\n",
       "  var a = h.find('a').clone();\n",
       "  var new_a = $(\"<a>\");\n",
       "  new_a.attr(\"href\", a.attr(\"href\"));\n",
       "  // get the text *excluding* the link text, whatever it may be\n",
       "  var hclone = h.clone();\n",
       "  hclone.children().remove();\n",
       "  new_a.text(hclone.text());\n",
       "  return new_a;\n",
       "}\n",
       "\n",
       "function ol_depth(element) {\n",
       "  // get depth of nested ol\n",
       "  var d = 0;\n",
       "  while (element.prop(\"tagName\").toLowerCase() == 'ol') {\n",
       "    d += 1;\n",
       "    element = element.parent();\n",
       "  }\n",
       "  return d;\n",
       "}\n",
       "\n",
       "function table_of_contents(threshold) {\n",
       "  if (threshold === undefined) {\n",
       "    threshold = 4;\n",
       "  }\n",
       "  var cells = IPython.notebook.get_cells();\n",
       "  \n",
       "  var ol = $(\"<ol/>\");\n",
       "  $(\"#toc\").empty().append(ol);\n",
       "  \n",
       "  for (var i=0; i < cells.length; i++) {\n",
       "    var cell = cells[i];\n",
       "    \n",
       "    if (cell.cell_type !== 'heading') continue;\n",
       "    \n",
       "    var level = cell.level;\n",
       "    if (level > threshold) continue;\n",
       "    \n",
       "    var depth = ol_depth(ol);\n",
       "\n",
       "    // walk down levels\n",
       "    for (; depth < level; depth++) {\n",
       "      var new_ol = $(\"<ol/>\");\n",
       "      ol.append(new_ol);\n",
       "      ol = new_ol;\n",
       "    }\n",
       "    // walk up levels\n",
       "    for (; depth > level; depth--) {\n",
       "      ol = ol.parent();\n",
       "    }\n",
       "    //\n",
       "    ol.append(\n",
       "      $(\"<li/>\").append(clone_anchor(cell.element))\n",
       "    );\n",
       "  }\n",
       "\n",
       "  $('#toc-wrapper .header').click(function(){\n",
       "    $('#toc').slideToggle();\n",
       "    $('#toc-wrapper').toggleClass('closed');\n",
       "    if ($('#toc-wrapper').hasClass('closed')){\n",
       "      $('#toc-wrapper .hide-btn').text('[show]');\n",
       "    } else {\n",
       "      $('#toc-wrapper .hide-btn').text('[hide]');\n",
       "    }\n",
       "    return false;\n",
       "  })\n",
       "\n",
       "  $(window).resize(function(){\n",
       "    $('#toc').css({maxHeight: $(window).height() - 200})\n",
       "  })\n",
       "\n",
       "  $(window).trigger('resize')\n",
       "}\n",
       "\n",
       "table_of_contents();\n",
       "\n",
       "\n"
      ]
     },
     "metadata": {},
     "output_type": "display_data"
    }
   ],
   "source": [
    "# to install, execute in a cell: %install_ext https://raw.github.com/minrk/ipython_extensions/master/nbtoc.py\n",
    "%load_ext nbtoc\n",
    "%nbtoc"
   ]
  },
  {
   "cell_type": "markdown",
   "metadata": {
    "deletable": true,
    "editable": true
   },
   "source": [
    "## Versions"
   ]
  },
  {
   "cell_type": "code",
   "execution_count": 4,
   "metadata": {
    "collapsed": false,
    "deletable": true,
    "editable": true
   },
   "outputs": [],
   "source": [
    "#%load_ext version_information\n",
    "#%version_information numpy, scipy, matplotlib, sympy, pycuda"
   ]
  },
  {
   "cell_type": "code",
   "execution_count": 5,
   "metadata": {
    "collapsed": false,
    "deletable": true,
    "editable": true
   },
   "outputs": [],
   "source": [
    "import pycuda\n",
    "import numpy as np"
   ]
  },
  {
   "cell_type": "code",
   "execution_count": 6,
   "metadata": {
    "collapsed": false,
    "deletable": true,
    "editable": true
   },
   "outputs": [
    {
     "data": {
      "text/plain": [
       "(2016, 1, 2)"
      ]
     },
     "execution_count": 6,
     "metadata": {},
     "output_type": "execute_result"
    }
   ],
   "source": [
    "pycuda.VERSION"
   ]
  },
  {
   "cell_type": "code",
   "execution_count": 7,
   "metadata": {
    "collapsed": false,
    "deletable": true,
    "editable": true
   },
   "outputs": [
    {
     "name": "stdout",
     "output_type": "stream",
     "text": [
      "nvcc: NVIDIA (R) Cuda compiler driver\r\n",
      "Copyright (c) 2005-2016 NVIDIA Corporation\r\n",
      "Built on Tue_Jan_10_13:22:03_CST_2017\r\n",
      "Cuda compilation tools, release 8.0, V8.0.61\r\n"
     ]
    }
   ],
   "source": [
    "!nvcc --version"
   ]
  },
  {
   "cell_type": "markdown",
   "metadata": {
    "deletable": true,
    "editable": true
   },
   "source": [
    "## Exploring your GPU device."
   ]
  },
  {
   "cell_type": "markdown",
   "metadata": {
    "deletable": true,
    "editable": true
   },
   "source": [
    "Listing devices:"
   ]
  },
  {
   "cell_type": "code",
   "execution_count": 8,
   "metadata": {
    "collapsed": false,
    "deletable": true,
    "editable": true
   },
   "outputs": [],
   "source": [
    "from pycuda import autoinit\n",
    "from pycuda.tools import DeviceData"
   ]
  },
  {
   "cell_type": "code",
   "execution_count": 9,
   "metadata": {
    "collapsed": false,
    "deletable": true,
    "editable": true
   },
   "outputs": [],
   "source": [
    "specs = DeviceData()"
   ]
  },
  {
   "cell_type": "code",
   "execution_count": 10,
   "metadata": {
    "collapsed": false,
    "deletable": true,
    "editable": true
   },
   "outputs": [
    {
     "name": "stdout",
     "output_type": "stream",
     "text": [
      "Max threads pero block =  1024\n"
     ]
    }
   ],
   "source": [
    "print 'Max threads pero block = ',specs.max_threads"
   ]
  },
  {
   "cell_type": "code",
   "execution_count": 11,
   "metadata": {
    "collapsed": false,
    "deletable": true,
    "editable": true
   },
   "outputs": [
    {
     "name": "stdout",
     "output_type": "stream",
     "text": [
      "Warp size            = 32\n",
      "Warps per MP         = 48\n",
      "Thread Blocks per MP = 8\n",
      "Registers            = 65536\n",
      "Shared memory        = 49152\n",
      "Granularity ??       = 32\n"
     ]
    }
   ],
   "source": [
    "print 'Warp size            =',specs.warp_size\n",
    "print 'Warps per MP         =', specs.warps_per_mp\n",
    "print 'Thread Blocks per MP =', specs.thread_blocks_per_mp\n",
    "print 'Registers            =', specs.registers\n",
    "print 'Shared memory        =', specs.shared_memory\n",
    "print 'Granularity ??       =', specs.smem_granularity"
   ]
  },
  {
   "cell_type": "markdown",
   "metadata": {
    "deletable": true,
    "editable": true
   },
   "source": [
    "Other way"
   ]
  },
  {
   "cell_type": "code",
   "execution_count": 12,
   "metadata": {
    "collapsed": false,
    "deletable": true,
    "editable": true
   },
   "outputs": [],
   "source": [
    "import pycuda.driver as drv"
   ]
  },
  {
   "cell_type": "code",
   "execution_count": 13,
   "metadata": {
    "collapsed": false,
    "deletable": true,
    "editable": true
   },
   "outputs": [],
   "source": [
    "drv.init()"
   ]
  },
  {
   "cell_type": "code",
   "execution_count": 14,
   "metadata": {
    "collapsed": false,
    "deletable": true,
    "editable": true
   },
   "outputs": [
    {
     "data": {
      "text/plain": [
       "(8, 0, 0)"
      ]
     },
     "execution_count": 14,
     "metadata": {},
     "output_type": "execute_result"
    }
   ],
   "source": [
    "drv.get_version()"
   ]
  },
  {
   "cell_type": "code",
   "execution_count": 15,
   "metadata": {
    "collapsed": false,
    "deletable": true,
    "editable": true
   },
   "outputs": [
    {
     "name": "stdout",
     "output_type": "stream",
     "text": [
      "Localized GPUs = 4\n"
     ]
    }
   ],
   "source": [
    "devn = drv.Device.count()\n",
    "print 'Localized GPUs =',devn"
   ]
  },
  {
   "cell_type": "code",
   "execution_count": 16,
   "metadata": {
    "collapsed": false,
    "deletable": true,
    "editable": true
   },
   "outputs": [],
   "source": [
    "devices = []\n",
    "for i in range(devn):\n",
    "    devices.append(drv.Device(i))"
   ]
  },
  {
   "cell_type": "markdown",
   "metadata": {
    "deletable": true,
    "editable": true
   },
   "source": [
    "All you want to know about your GPU, but you're afraid to ask!"
   ]
  },
  {
   "cell_type": "code",
   "execution_count": 17,
   "metadata": {
    "collapsed": false,
    "deletable": true,
    "editable": true
   },
   "outputs": [
    {
     "name": "stdout",
     "output_type": "stream",
     "text": [
      "Name =  GeForce GTX 1080\n",
      "PCI Bus =  0000:4B:00.0\n",
      "Compute Capability =  (6, 1)\n",
      "Total Memory =  8114.0 MBytes\n",
      "(pycuda._driver.device_attribute.MAX_THREADS_PER_BLOCK, 1024)\n",
      "(pycuda._driver.device_attribute.MAX_BLOCK_DIM_X, 1024)\n",
      "(pycuda._driver.device_attribute.MAX_BLOCK_DIM_Y, 1024)\n",
      "(pycuda._driver.device_attribute.MAX_BLOCK_DIM_Z, 64)\n",
      "(pycuda._driver.device_attribute.MAX_GRID_DIM_X, 2147483647)\n",
      "(pycuda._driver.device_attribute.MAX_GRID_DIM_Y, 65535)\n",
      "(pycuda._driver.device_attribute.MAX_GRID_DIM_Z, 65535)\n",
      "(pycuda._driver.device_attribute.MAX_SHARED_MEMORY_PER_BLOCK, 49152)\n",
      "(pycuda._driver.device_attribute.TOTAL_CONSTANT_MEMORY, 65536)\n",
      "(pycuda._driver.device_attribute.WARP_SIZE, 32)\n",
      "(pycuda._driver.device_attribute.MAX_PITCH, 2147483647)\n",
      "(pycuda._driver.device_attribute.MAX_REGISTERS_PER_BLOCK, 65536)\n",
      "(pycuda._driver.device_attribute.CLOCK_RATE, 1847500)\n",
      "(pycuda._driver.device_attribute.TEXTURE_ALIGNMENT, 512)\n",
      "(pycuda._driver.device_attribute.GPU_OVERLAP, 1)\n",
      "(pycuda._driver.device_attribute.MULTIPROCESSOR_COUNT, 20)\n",
      "(pycuda._driver.device_attribute.KERNEL_EXEC_TIMEOUT, 0)\n",
      "(pycuda._driver.device_attribute.INTEGRATED, 0)\n",
      "(pycuda._driver.device_attribute.CAN_MAP_HOST_MEMORY, 1)\n",
      "(pycuda._driver.device_attribute.COMPUTE_MODE, pycuda._driver.compute_mode.DEFAULT)\n",
      "(pycuda._driver.device_attribute.MAXIMUM_TEXTURE1D_WIDTH, 131072)\n",
      "(pycuda._driver.device_attribute.MAXIMUM_TEXTURE2D_WIDTH, 131072)\n",
      "(pycuda._driver.device_attribute.MAXIMUM_TEXTURE2D_HEIGHT, 65536)\n",
      "(pycuda._driver.device_attribute.MAXIMUM_TEXTURE3D_WIDTH, 16384)\n",
      "(pycuda._driver.device_attribute.MAXIMUM_TEXTURE3D_HEIGHT, 16384)\n",
      "(pycuda._driver.device_attribute.MAXIMUM_TEXTURE3D_DEPTH, 16384)\n",
      "(pycuda._driver.device_attribute.MAXIMUM_TEXTURE2D_ARRAY_WIDTH, 32768)\n",
      "(pycuda._driver.device_attribute.MAXIMUM_TEXTURE2D_ARRAY_HEIGHT, 32768)\n",
      "(pycuda._driver.device_attribute.MAXIMUM_TEXTURE2D_ARRAY_NUMSLICES, 2048)\n",
      "(pycuda._driver.device_attribute.SURFACE_ALIGNMENT, 512)\n",
      "(pycuda._driver.device_attribute.CONCURRENT_KERNELS, 1)\n",
      "(pycuda._driver.device_attribute.ECC_ENABLED, 0)\n",
      "(pycuda._driver.device_attribute.PCI_BUS_ID, 75)\n",
      "(pycuda._driver.device_attribute.PCI_DEVICE_ID, 0)\n",
      "(pycuda._driver.device_attribute.TCC_DRIVER, 0)\n",
      "(pycuda._driver.device_attribute.MEMORY_CLOCK_RATE, 5005000)\n",
      "(pycuda._driver.device_attribute.GLOBAL_MEMORY_BUS_WIDTH, 256)\n",
      "(pycuda._driver.device_attribute.L2_CACHE_SIZE, 2097152)\n",
      "(pycuda._driver.device_attribute.MAX_THREADS_PER_MULTIPROCESSOR, 2048)\n",
      "(pycuda._driver.device_attribute.ASYNC_ENGINE_COUNT, 2)\n",
      "(pycuda._driver.device_attribute.UNIFIED_ADDRESSING, 1)\n",
      "(pycuda._driver.device_attribute.MAXIMUM_TEXTURE1D_LAYERED_WIDTH, 32768)\n",
      "(pycuda._driver.device_attribute.MAXIMUM_TEXTURE1D_LAYERED_LAYERS, 2048)\n",
      "(pycuda._driver.device_attribute.MAXIMUM_TEXTURE2D_GATHER_WIDTH, 32768)\n",
      "(pycuda._driver.device_attribute.MAXIMUM_TEXTURE2D_GATHER_HEIGHT, 32768)\n",
      "(pycuda._driver.device_attribute.MAXIMUM_TEXTURE3D_WIDTH_ALTERNATE, 8192)\n",
      "(pycuda._driver.device_attribute.MAXIMUM_TEXTURE3D_HEIGHT_ALTERNATE, 8192)\n",
      "(pycuda._driver.device_attribute.MAXIMUM_TEXTURE3D_DEPTH_ALTERNATE, 32768)\n",
      "(pycuda._driver.device_attribute.PCI_DOMAIN_ID, 0)\n",
      "(pycuda._driver.device_attribute.TEXTURE_PITCH_ALIGNMENT, 32)\n",
      "(pycuda._driver.device_attribute.MAXIMUM_TEXTURECUBEMAP_WIDTH, 32768)\n",
      "(pycuda._driver.device_attribute.MAXIMUM_TEXTURECUBEMAP_LAYERED_WIDTH, 32768)\n",
      "(pycuda._driver.device_attribute.MAXIMUM_TEXTURECUBEMAP_LAYERED_LAYERS, 2046)\n",
      "(pycuda._driver.device_attribute.MAXIMUM_SURFACE1D_WIDTH, 32768)\n",
      "(pycuda._driver.device_attribute.MAXIMUM_SURFACE2D_WIDTH, 131072)\n",
      "(pycuda._driver.device_attribute.MAXIMUM_SURFACE2D_HEIGHT, 65536)\n",
      "(pycuda._driver.device_attribute.MAXIMUM_SURFACE3D_WIDTH, 16384)\n",
      "(pycuda._driver.device_attribute.MAXIMUM_SURFACE3D_HEIGHT, 16384)\n",
      "(pycuda._driver.device_attribute.MAXIMUM_SURFACE3D_DEPTH, 16384)\n",
      "(pycuda._driver.device_attribute.MAXIMUM_SURFACE1D_LAYERED_WIDTH, 32768)\n",
      "(pycuda._driver.device_attribute.MAXIMUM_SURFACE1D_LAYERED_LAYERS, 2048)\n",
      "(pycuda._driver.device_attribute.MAXIMUM_SURFACE2D_LAYERED_WIDTH, 32768)\n",
      "(pycuda._driver.device_attribute.MAXIMUM_SURFACE2D_LAYERED_HEIGHT, 32768)\n",
      "(pycuda._driver.device_attribute.MAXIMUM_SURFACE2D_LAYERED_LAYERS, 2048)\n",
      "(pycuda._driver.device_attribute.MAXIMUM_SURFACECUBEMAP_WIDTH, 32768)\n",
      "(pycuda._driver.device_attribute.MAXIMUM_SURFACECUBEMAP_LAYERED_WIDTH, 32768)\n",
      "(pycuda._driver.device_attribute.MAXIMUM_SURFACECUBEMAP_LAYERED_LAYERS, 2046)\n",
      "(pycuda._driver.device_attribute.MAXIMUM_TEXTURE1D_LINEAR_WIDTH, 134217728)\n",
      "(pycuda._driver.device_attribute.MAXIMUM_TEXTURE2D_LINEAR_WIDTH, 131072)\n",
      "(pycuda._driver.device_attribute.MAXIMUM_TEXTURE2D_LINEAR_HEIGHT, 65000)\n",
      "(pycuda._driver.device_attribute.MAXIMUM_TEXTURE2D_LINEAR_PITCH, 2097120)\n",
      "(pycuda._driver.device_attribute.MAXIMUM_TEXTURE2D_MIPMAPPED_WIDTH, 32768)\n",
      "(pycuda._driver.device_attribute.MAXIMUM_TEXTURE2D_MIPMAPPED_HEIGHT, 32768)\n",
      "(pycuda._driver.device_attribute.COMPUTE_CAPABILITY_MAJOR, 6)\n",
      "(pycuda._driver.device_attribute.COMPUTE_CAPABILITY_MINOR, 1)\n",
      "(pycuda._driver.device_attribute.MAXIMUM_TEXTURE1D_MIPMAPPED_WIDTH, 16384)\n",
      "(pycuda._driver.device_attribute.STREAM_PRIORITIES_SUPPORTED, 1)\n",
      "(pycuda._driver.device_attribute.GLOBAL_L1_CACHE_SUPPORTED, 1)\n",
      "(pycuda._driver.device_attribute.LOCAL_L1_CACHE_SUPPORTED, 1)\n",
      "(pycuda._driver.device_attribute.MAX_SHARED_MEMORY_PER_MULTIPROCESSOR, 98304)\n",
      "(pycuda._driver.device_attribute.MAX_REGISTERS_PER_MULTIPROCESSOR, 65536)\n",
      "(pycuda._driver.device_attribute.MANAGED_MEMORY, 1)\n",
      "(pycuda._driver.device_attribute.MULTI_GPU_BOARD, 0)\n",
      "(pycuda._driver.device_attribute.MULTI_GPU_BOARD_GROUP_ID, 0)\n",
      "------------------\n",
      "------------------\n",
      "Name =  GeForce GTX 1080\n",
      "PCI Bus =  0000:4C:00.0\n",
      "Compute Capability =  (6, 1)\n",
      "Total Memory =  8114.0 MBytes\n",
      "(pycuda._driver.device_attribute.MAX_THREADS_PER_BLOCK, 1024)\n",
      "(pycuda._driver.device_attribute.MAX_BLOCK_DIM_X, 1024)\n",
      "(pycuda._driver.device_attribute.MAX_BLOCK_DIM_Y, 1024)\n",
      "(pycuda._driver.device_attribute.MAX_BLOCK_DIM_Z, 64)\n",
      "(pycuda._driver.device_attribute.MAX_GRID_DIM_X, 2147483647)\n",
      "(pycuda._driver.device_attribute.MAX_GRID_DIM_Y, 65535)\n",
      "(pycuda._driver.device_attribute.MAX_GRID_DIM_Z, 65535)\n",
      "(pycuda._driver.device_attribute.MAX_SHARED_MEMORY_PER_BLOCK, 49152)\n",
      "(pycuda._driver.device_attribute.TOTAL_CONSTANT_MEMORY, 65536)\n",
      "(pycuda._driver.device_attribute.WARP_SIZE, 32)\n",
      "(pycuda._driver.device_attribute.MAX_PITCH, 2147483647)\n",
      "(pycuda._driver.device_attribute.MAX_REGISTERS_PER_BLOCK, 65536)\n",
      "(pycuda._driver.device_attribute.CLOCK_RATE, 1847500)\n",
      "(pycuda._driver.device_attribute.TEXTURE_ALIGNMENT, 512)\n",
      "(pycuda._driver.device_attribute.GPU_OVERLAP, 1)\n",
      "(pycuda._driver.device_attribute.MULTIPROCESSOR_COUNT, 20)\n",
      "(pycuda._driver.device_attribute.KERNEL_EXEC_TIMEOUT, 0)\n",
      "(pycuda._driver.device_attribute.INTEGRATED, 0)\n",
      "(pycuda._driver.device_attribute.CAN_MAP_HOST_MEMORY, 1)\n",
      "(pycuda._driver.device_attribute.COMPUTE_MODE, pycuda._driver.compute_mode.DEFAULT)\n",
      "(pycuda._driver.device_attribute.MAXIMUM_TEXTURE1D_WIDTH, 131072)\n",
      "(pycuda._driver.device_attribute.MAXIMUM_TEXTURE2D_WIDTH, 131072)\n",
      "(pycuda._driver.device_attribute.MAXIMUM_TEXTURE2D_HEIGHT, 65536)\n",
      "(pycuda._driver.device_attribute.MAXIMUM_TEXTURE3D_WIDTH, 16384)\n",
      "(pycuda._driver.device_attribute.MAXIMUM_TEXTURE3D_HEIGHT, 16384)\n",
      "(pycuda._driver.device_attribute.MAXIMUM_TEXTURE3D_DEPTH, 16384)\n",
      "(pycuda._driver.device_attribute.MAXIMUM_TEXTURE2D_ARRAY_WIDTH, 32768)\n",
      "(pycuda._driver.device_attribute.MAXIMUM_TEXTURE2D_ARRAY_HEIGHT, 32768)\n",
      "(pycuda._driver.device_attribute.MAXIMUM_TEXTURE2D_ARRAY_NUMSLICES, 2048)\n",
      "(pycuda._driver.device_attribute.SURFACE_ALIGNMENT, 512)\n",
      "(pycuda._driver.device_attribute.CONCURRENT_KERNELS, 1)\n",
      "(pycuda._driver.device_attribute.ECC_ENABLED, 0)\n",
      "(pycuda._driver.device_attribute.PCI_BUS_ID, 76)\n",
      "(pycuda._driver.device_attribute.PCI_DEVICE_ID, 0)\n",
      "(pycuda._driver.device_attribute.TCC_DRIVER, 0)\n",
      "(pycuda._driver.device_attribute.MEMORY_CLOCK_RATE, 5005000)\n",
      "(pycuda._driver.device_attribute.GLOBAL_MEMORY_BUS_WIDTH, 256)\n",
      "(pycuda._driver.device_attribute.L2_CACHE_SIZE, 2097152)\n",
      "(pycuda._driver.device_attribute.MAX_THREADS_PER_MULTIPROCESSOR, 2048)\n",
      "(pycuda._driver.device_attribute.ASYNC_ENGINE_COUNT, 2)\n",
      "(pycuda._driver.device_attribute.UNIFIED_ADDRESSING, 1)\n",
      "(pycuda._driver.device_attribute.MAXIMUM_TEXTURE1D_LAYERED_WIDTH, 32768)\n",
      "(pycuda._driver.device_attribute.MAXIMUM_TEXTURE1D_LAYERED_LAYERS, 2048)\n",
      "(pycuda._driver.device_attribute.MAXIMUM_TEXTURE2D_GATHER_WIDTH, 32768)\n",
      "(pycuda._driver.device_attribute.MAXIMUM_TEXTURE2D_GATHER_HEIGHT, 32768)\n",
      "(pycuda._driver.device_attribute.MAXIMUM_TEXTURE3D_WIDTH_ALTERNATE, 8192)\n",
      "(pycuda._driver.device_attribute.MAXIMUM_TEXTURE3D_HEIGHT_ALTERNATE, 8192)\n",
      "(pycuda._driver.device_attribute.MAXIMUM_TEXTURE3D_DEPTH_ALTERNATE, 32768)\n",
      "(pycuda._driver.device_attribute.PCI_DOMAIN_ID, 0)\n",
      "(pycuda._driver.device_attribute.TEXTURE_PITCH_ALIGNMENT, 32)\n",
      "(pycuda._driver.device_attribute.MAXIMUM_TEXTURECUBEMAP_WIDTH, 32768)\n",
      "(pycuda._driver.device_attribute.MAXIMUM_TEXTURECUBEMAP_LAYERED_WIDTH, 32768)\n",
      "(pycuda._driver.device_attribute.MAXIMUM_TEXTURECUBEMAP_LAYERED_LAYERS, 2046)\n",
      "(pycuda._driver.device_attribute.MAXIMUM_SURFACE1D_WIDTH, 32768)\n",
      "(pycuda._driver.device_attribute.MAXIMUM_SURFACE2D_WIDTH, 131072)\n",
      "(pycuda._driver.device_attribute.MAXIMUM_SURFACE2D_HEIGHT, 65536)\n",
      "(pycuda._driver.device_attribute.MAXIMUM_SURFACE3D_WIDTH, 16384)\n",
      "(pycuda._driver.device_attribute.MAXIMUM_SURFACE3D_HEIGHT, 16384)\n",
      "(pycuda._driver.device_attribute.MAXIMUM_SURFACE3D_DEPTH, 16384)\n",
      "(pycuda._driver.device_attribute.MAXIMUM_SURFACE1D_LAYERED_WIDTH, 32768)\n",
      "(pycuda._driver.device_attribute.MAXIMUM_SURFACE1D_LAYERED_LAYERS, 2048)\n",
      "(pycuda._driver.device_attribute.MAXIMUM_SURFACE2D_LAYERED_WIDTH, 32768)\n",
      "(pycuda._driver.device_attribute.MAXIMUM_SURFACE2D_LAYERED_HEIGHT, 32768)\n",
      "(pycuda._driver.device_attribute.MAXIMUM_SURFACE2D_LAYERED_LAYERS, 2048)\n",
      "(pycuda._driver.device_attribute.MAXIMUM_SURFACECUBEMAP_WIDTH, 32768)\n",
      "(pycuda._driver.device_attribute.MAXIMUM_SURFACECUBEMAP_LAYERED_WIDTH, 32768)\n",
      "(pycuda._driver.device_attribute.MAXIMUM_SURFACECUBEMAP_LAYERED_LAYERS, 2046)\n",
      "(pycuda._driver.device_attribute.MAXIMUM_TEXTURE1D_LINEAR_WIDTH, 134217728)\n",
      "(pycuda._driver.device_attribute.MAXIMUM_TEXTURE2D_LINEAR_WIDTH, 131072)\n",
      "(pycuda._driver.device_attribute.MAXIMUM_TEXTURE2D_LINEAR_HEIGHT, 65000)\n",
      "(pycuda._driver.device_attribute.MAXIMUM_TEXTURE2D_LINEAR_PITCH, 2097120)\n",
      "(pycuda._driver.device_attribute.MAXIMUM_TEXTURE2D_MIPMAPPED_WIDTH, 32768)\n",
      "(pycuda._driver.device_attribute.MAXIMUM_TEXTURE2D_MIPMAPPED_HEIGHT, 32768)\n",
      "(pycuda._driver.device_attribute.COMPUTE_CAPABILITY_MAJOR, 6)\n",
      "(pycuda._driver.device_attribute.COMPUTE_CAPABILITY_MINOR, 1)\n",
      "(pycuda._driver.device_attribute.MAXIMUM_TEXTURE1D_MIPMAPPED_WIDTH, 16384)\n",
      "(pycuda._driver.device_attribute.STREAM_PRIORITIES_SUPPORTED, 1)\n",
      "(pycuda._driver.device_attribute.GLOBAL_L1_CACHE_SUPPORTED, 1)\n",
      "(pycuda._driver.device_attribute.LOCAL_L1_CACHE_SUPPORTED, 1)\n",
      "(pycuda._driver.device_attribute.MAX_SHARED_MEMORY_PER_MULTIPROCESSOR, 98304)\n",
      "(pycuda._driver.device_attribute.MAX_REGISTERS_PER_MULTIPROCESSOR, 65536)\n",
      "(pycuda._driver.device_attribute.MANAGED_MEMORY, 1)\n",
      "(pycuda._driver.device_attribute.MULTI_GPU_BOARD, 0)\n",
      "(pycuda._driver.device_attribute.MULTI_GPU_BOARD_GROUP_ID, 1)\n",
      "------------------\n",
      "------------------\n",
      "Name =  GeForce GTX 1080\n",
      "PCI Bus =  0000:4D:00.0\n",
      "Compute Capability =  (6, 1)\n",
      "Total Memory =  8114.0 MBytes\n",
      "(pycuda._driver.device_attribute.MAX_THREADS_PER_BLOCK, 1024)\n",
      "(pycuda._driver.device_attribute.MAX_BLOCK_DIM_X, 1024)\n",
      "(pycuda._driver.device_attribute.MAX_BLOCK_DIM_Y, 1024)\n",
      "(pycuda._driver.device_attribute.MAX_BLOCK_DIM_Z, 64)\n",
      "(pycuda._driver.device_attribute.MAX_GRID_DIM_X, 2147483647)\n",
      "(pycuda._driver.device_attribute.MAX_GRID_DIM_Y, 65535)\n",
      "(pycuda._driver.device_attribute.MAX_GRID_DIM_Z, 65535)\n",
      "(pycuda._driver.device_attribute.MAX_SHARED_MEMORY_PER_BLOCK, 49152)\n",
      "(pycuda._driver.device_attribute.TOTAL_CONSTANT_MEMORY, 65536)\n",
      "(pycuda._driver.device_attribute.WARP_SIZE, 32)\n",
      "(pycuda._driver.device_attribute.MAX_PITCH, 2147483647)\n",
      "(pycuda._driver.device_attribute.MAX_REGISTERS_PER_BLOCK, 65536)\n",
      "(pycuda._driver.device_attribute.CLOCK_RATE, 1847500)\n",
      "(pycuda._driver.device_attribute.TEXTURE_ALIGNMENT, 512)\n",
      "(pycuda._driver.device_attribute.GPU_OVERLAP, 1)\n",
      "(pycuda._driver.device_attribute.MULTIPROCESSOR_COUNT, 20)\n",
      "(pycuda._driver.device_attribute.KERNEL_EXEC_TIMEOUT, 0)\n",
      "(pycuda._driver.device_attribute.INTEGRATED, 0)\n",
      "(pycuda._driver.device_attribute.CAN_MAP_HOST_MEMORY, 1)\n",
      "(pycuda._driver.device_attribute.COMPUTE_MODE, pycuda._driver.compute_mode.DEFAULT)\n",
      "(pycuda._driver.device_attribute.MAXIMUM_TEXTURE1D_WIDTH, 131072)\n",
      "(pycuda._driver.device_attribute.MAXIMUM_TEXTURE2D_WIDTH, 131072)\n",
      "(pycuda._driver.device_attribute.MAXIMUM_TEXTURE2D_HEIGHT, 65536)\n",
      "(pycuda._driver.device_attribute.MAXIMUM_TEXTURE3D_WIDTH, 16384)\n",
      "(pycuda._driver.device_attribute.MAXIMUM_TEXTURE3D_HEIGHT, 16384)\n",
      "(pycuda._driver.device_attribute.MAXIMUM_TEXTURE3D_DEPTH, 16384)\n",
      "(pycuda._driver.device_attribute.MAXIMUM_TEXTURE2D_ARRAY_WIDTH, 32768)\n",
      "(pycuda._driver.device_attribute.MAXIMUM_TEXTURE2D_ARRAY_HEIGHT, 32768)\n",
      "(pycuda._driver.device_attribute.MAXIMUM_TEXTURE2D_ARRAY_NUMSLICES, 2048)\n",
      "(pycuda._driver.device_attribute.SURFACE_ALIGNMENT, 512)\n",
      "(pycuda._driver.device_attribute.CONCURRENT_KERNELS, 1)\n",
      "(pycuda._driver.device_attribute.ECC_ENABLED, 0)\n",
      "(pycuda._driver.device_attribute.PCI_BUS_ID, 77)\n",
      "(pycuda._driver.device_attribute.PCI_DEVICE_ID, 0)\n",
      "(pycuda._driver.device_attribute.TCC_DRIVER, 0)\n",
      "(pycuda._driver.device_attribute.MEMORY_CLOCK_RATE, 5005000)\n",
      "(pycuda._driver.device_attribute.GLOBAL_MEMORY_BUS_WIDTH, 256)\n",
      "(pycuda._driver.device_attribute.L2_CACHE_SIZE, 2097152)\n",
      "(pycuda._driver.device_attribute.MAX_THREADS_PER_MULTIPROCESSOR, 2048)\n",
      "(pycuda._driver.device_attribute.ASYNC_ENGINE_COUNT, 2)\n",
      "(pycuda._driver.device_attribute.UNIFIED_ADDRESSING, 1)\n",
      "(pycuda._driver.device_attribute.MAXIMUM_TEXTURE1D_LAYERED_WIDTH, 32768)\n",
      "(pycuda._driver.device_attribute.MAXIMUM_TEXTURE1D_LAYERED_LAYERS, 2048)\n",
      "(pycuda._driver.device_attribute.MAXIMUM_TEXTURE2D_GATHER_WIDTH, 32768)\n",
      "(pycuda._driver.device_attribute.MAXIMUM_TEXTURE2D_GATHER_HEIGHT, 32768)\n",
      "(pycuda._driver.device_attribute.MAXIMUM_TEXTURE3D_WIDTH_ALTERNATE, 8192)\n",
      "(pycuda._driver.device_attribute.MAXIMUM_TEXTURE3D_HEIGHT_ALTERNATE, 8192)\n",
      "(pycuda._driver.device_attribute.MAXIMUM_TEXTURE3D_DEPTH_ALTERNATE, 32768)\n",
      "(pycuda._driver.device_attribute.PCI_DOMAIN_ID, 0)\n",
      "(pycuda._driver.device_attribute.TEXTURE_PITCH_ALIGNMENT, 32)\n",
      "(pycuda._driver.device_attribute.MAXIMUM_TEXTURECUBEMAP_WIDTH, 32768)\n",
      "(pycuda._driver.device_attribute.MAXIMUM_TEXTURECUBEMAP_LAYERED_WIDTH, 32768)\n",
      "(pycuda._driver.device_attribute.MAXIMUM_TEXTURECUBEMAP_LAYERED_LAYERS, 2046)\n",
      "(pycuda._driver.device_attribute.MAXIMUM_SURFACE1D_WIDTH, 32768)\n",
      "(pycuda._driver.device_attribute.MAXIMUM_SURFACE2D_WIDTH, 131072)\n",
      "(pycuda._driver.device_attribute.MAXIMUM_SURFACE2D_HEIGHT, 65536)\n",
      "(pycuda._driver.device_attribute.MAXIMUM_SURFACE3D_WIDTH, 16384)\n",
      "(pycuda._driver.device_attribute.MAXIMUM_SURFACE3D_HEIGHT, 16384)\n",
      "(pycuda._driver.device_attribute.MAXIMUM_SURFACE3D_DEPTH, 16384)\n",
      "(pycuda._driver.device_attribute.MAXIMUM_SURFACE1D_LAYERED_WIDTH, 32768)\n",
      "(pycuda._driver.device_attribute.MAXIMUM_SURFACE1D_LAYERED_LAYERS, 2048)\n",
      "(pycuda._driver.device_attribute.MAXIMUM_SURFACE2D_LAYERED_WIDTH, 32768)\n",
      "(pycuda._driver.device_attribute.MAXIMUM_SURFACE2D_LAYERED_HEIGHT, 32768)\n",
      "(pycuda._driver.device_attribute.MAXIMUM_SURFACE2D_LAYERED_LAYERS, 2048)\n",
      "(pycuda._driver.device_attribute.MAXIMUM_SURFACECUBEMAP_WIDTH, 32768)\n",
      "(pycuda._driver.device_attribute.MAXIMUM_SURFACECUBEMAP_LAYERED_WIDTH, 32768)\n",
      "(pycuda._driver.device_attribute.MAXIMUM_SURFACECUBEMAP_LAYERED_LAYERS, 2046)\n",
      "(pycuda._driver.device_attribute.MAXIMUM_TEXTURE1D_LINEAR_WIDTH, 134217728)\n",
      "(pycuda._driver.device_attribute.MAXIMUM_TEXTURE2D_LINEAR_WIDTH, 131072)\n",
      "(pycuda._driver.device_attribute.MAXIMUM_TEXTURE2D_LINEAR_HEIGHT, 65000)\n",
      "(pycuda._driver.device_attribute.MAXIMUM_TEXTURE2D_LINEAR_PITCH, 2097120)\n",
      "(pycuda._driver.device_attribute.MAXIMUM_TEXTURE2D_MIPMAPPED_WIDTH, 32768)\n",
      "(pycuda._driver.device_attribute.MAXIMUM_TEXTURE2D_MIPMAPPED_HEIGHT, 32768)\n",
      "(pycuda._driver.device_attribute.COMPUTE_CAPABILITY_MAJOR, 6)\n",
      "(pycuda._driver.device_attribute.COMPUTE_CAPABILITY_MINOR, 1)\n",
      "(pycuda._driver.device_attribute.MAXIMUM_TEXTURE1D_MIPMAPPED_WIDTH, 16384)\n",
      "(pycuda._driver.device_attribute.STREAM_PRIORITIES_SUPPORTED, 1)\n",
      "(pycuda._driver.device_attribute.GLOBAL_L1_CACHE_SUPPORTED, 1)\n",
      "(pycuda._driver.device_attribute.LOCAL_L1_CACHE_SUPPORTED, 1)\n",
      "(pycuda._driver.device_attribute.MAX_SHARED_MEMORY_PER_MULTIPROCESSOR, 98304)\n",
      "(pycuda._driver.device_attribute.MAX_REGISTERS_PER_MULTIPROCESSOR, 65536)\n",
      "(pycuda._driver.device_attribute.MANAGED_MEMORY, 1)\n",
      "(pycuda._driver.device_attribute.MULTI_GPU_BOARD, 0)\n",
      "(pycuda._driver.device_attribute.MULTI_GPU_BOARD_GROUP_ID, 2)\n",
      "------------------\n",
      "------------------\n",
      "Name =  GeForce GTX 1080\n",
      "PCI Bus =  0000:4E:00.0\n",
      "Compute Capability =  (6, 1)\n",
      "Total Memory =  8110.875 MBytes\n",
      "(pycuda._driver.device_attribute.MAX_THREADS_PER_BLOCK, 1024)\n",
      "(pycuda._driver.device_attribute.MAX_BLOCK_DIM_X, 1024)\n",
      "(pycuda._driver.device_attribute.MAX_BLOCK_DIM_Y, 1024)\n",
      "(pycuda._driver.device_attribute.MAX_BLOCK_DIM_Z, 64)\n",
      "(pycuda._driver.device_attribute.MAX_GRID_DIM_X, 2147483647)\n",
      "(pycuda._driver.device_attribute.MAX_GRID_DIM_Y, 65535)\n",
      "(pycuda._driver.device_attribute.MAX_GRID_DIM_Z, 65535)\n",
      "(pycuda._driver.device_attribute.MAX_SHARED_MEMORY_PER_BLOCK, 49152)\n",
      "(pycuda._driver.device_attribute.TOTAL_CONSTANT_MEMORY, 65536)\n",
      "(pycuda._driver.device_attribute.WARP_SIZE, 32)\n",
      "(pycuda._driver.device_attribute.MAX_PITCH, 2147483647)\n",
      "(pycuda._driver.device_attribute.MAX_REGISTERS_PER_BLOCK, 65536)\n",
      "(pycuda._driver.device_attribute.CLOCK_RATE, 1847500)\n",
      "(pycuda._driver.device_attribute.TEXTURE_ALIGNMENT, 512)\n",
      "(pycuda._driver.device_attribute.GPU_OVERLAP, 1)\n",
      "(pycuda._driver.device_attribute.MULTIPROCESSOR_COUNT, 20)\n",
      "(pycuda._driver.device_attribute.KERNEL_EXEC_TIMEOUT, 0)\n",
      "(pycuda._driver.device_attribute.INTEGRATED, 0)\n",
      "(pycuda._driver.device_attribute.CAN_MAP_HOST_MEMORY, 1)\n",
      "(pycuda._driver.device_attribute.COMPUTE_MODE, pycuda._driver.compute_mode.DEFAULT)\n",
      "(pycuda._driver.device_attribute.MAXIMUM_TEXTURE1D_WIDTH, 131072)\n",
      "(pycuda._driver.device_attribute.MAXIMUM_TEXTURE2D_WIDTH, 131072)\n",
      "(pycuda._driver.device_attribute.MAXIMUM_TEXTURE2D_HEIGHT, 65536)\n",
      "(pycuda._driver.device_attribute.MAXIMUM_TEXTURE3D_WIDTH, 16384)\n",
      "(pycuda._driver.device_attribute.MAXIMUM_TEXTURE3D_HEIGHT, 16384)\n",
      "(pycuda._driver.device_attribute.MAXIMUM_TEXTURE3D_DEPTH, 16384)\n",
      "(pycuda._driver.device_attribute.MAXIMUM_TEXTURE2D_ARRAY_WIDTH, 32768)\n",
      "(pycuda._driver.device_attribute.MAXIMUM_TEXTURE2D_ARRAY_HEIGHT, 32768)\n",
      "(pycuda._driver.device_attribute.MAXIMUM_TEXTURE2D_ARRAY_NUMSLICES, 2048)\n",
      "(pycuda._driver.device_attribute.SURFACE_ALIGNMENT, 512)\n",
      "(pycuda._driver.device_attribute.CONCURRENT_KERNELS, 1)\n",
      "(pycuda._driver.device_attribute.ECC_ENABLED, 0)\n",
      "(pycuda._driver.device_attribute.PCI_BUS_ID, 78)\n",
      "(pycuda._driver.device_attribute.PCI_DEVICE_ID, 0)\n",
      "(pycuda._driver.device_attribute.TCC_DRIVER, 0)\n",
      "(pycuda._driver.device_attribute.MEMORY_CLOCK_RATE, 5005000)\n",
      "(pycuda._driver.device_attribute.GLOBAL_MEMORY_BUS_WIDTH, 256)\n",
      "(pycuda._driver.device_attribute.L2_CACHE_SIZE, 2097152)\n",
      "(pycuda._driver.device_attribute.MAX_THREADS_PER_MULTIPROCESSOR, 2048)\n",
      "(pycuda._driver.device_attribute.ASYNC_ENGINE_COUNT, 2)\n",
      "(pycuda._driver.device_attribute.UNIFIED_ADDRESSING, 1)\n",
      "(pycuda._driver.device_attribute.MAXIMUM_TEXTURE1D_LAYERED_WIDTH, 32768)\n",
      "(pycuda._driver.device_attribute.MAXIMUM_TEXTURE1D_LAYERED_LAYERS, 2048)\n",
      "(pycuda._driver.device_attribute.MAXIMUM_TEXTURE2D_GATHER_WIDTH, 32768)\n",
      "(pycuda._driver.device_attribute.MAXIMUM_TEXTURE2D_GATHER_HEIGHT, 32768)\n",
      "(pycuda._driver.device_attribute.MAXIMUM_TEXTURE3D_WIDTH_ALTERNATE, 8192)\n",
      "(pycuda._driver.device_attribute.MAXIMUM_TEXTURE3D_HEIGHT_ALTERNATE, 8192)\n",
      "(pycuda._driver.device_attribute.MAXIMUM_TEXTURE3D_DEPTH_ALTERNATE, 32768)\n",
      "(pycuda._driver.device_attribute.PCI_DOMAIN_ID, 0)\n",
      "(pycuda._driver.device_attribute.TEXTURE_PITCH_ALIGNMENT, 32)\n",
      "(pycuda._driver.device_attribute.MAXIMUM_TEXTURECUBEMAP_WIDTH, 32768)\n",
      "(pycuda._driver.device_attribute.MAXIMUM_TEXTURECUBEMAP_LAYERED_WIDTH, 32768)\n",
      "(pycuda._driver.device_attribute.MAXIMUM_TEXTURECUBEMAP_LAYERED_LAYERS, 2046)\n",
      "(pycuda._driver.device_attribute.MAXIMUM_SURFACE1D_WIDTH, 32768)\n",
      "(pycuda._driver.device_attribute.MAXIMUM_SURFACE2D_WIDTH, 131072)\n",
      "(pycuda._driver.device_attribute.MAXIMUM_SURFACE2D_HEIGHT, 65536)\n",
      "(pycuda._driver.device_attribute.MAXIMUM_SURFACE3D_WIDTH, 16384)\n",
      "(pycuda._driver.device_attribute.MAXIMUM_SURFACE3D_HEIGHT, 16384)\n",
      "(pycuda._driver.device_attribute.MAXIMUM_SURFACE3D_DEPTH, 16384)\n",
      "(pycuda._driver.device_attribute.MAXIMUM_SURFACE1D_LAYERED_WIDTH, 32768)\n",
      "(pycuda._driver.device_attribute.MAXIMUM_SURFACE1D_LAYERED_LAYERS, 2048)\n",
      "(pycuda._driver.device_attribute.MAXIMUM_SURFACE2D_LAYERED_WIDTH, 32768)\n",
      "(pycuda._driver.device_attribute.MAXIMUM_SURFACE2D_LAYERED_HEIGHT, 32768)\n",
      "(pycuda._driver.device_attribute.MAXIMUM_SURFACE2D_LAYERED_LAYERS, 2048)\n",
      "(pycuda._driver.device_attribute.MAXIMUM_SURFACECUBEMAP_WIDTH, 32768)\n",
      "(pycuda._driver.device_attribute.MAXIMUM_SURFACECUBEMAP_LAYERED_WIDTH, 32768)\n",
      "(pycuda._driver.device_attribute.MAXIMUM_SURFACECUBEMAP_LAYERED_LAYERS, 2046)\n",
      "(pycuda._driver.device_attribute.MAXIMUM_TEXTURE1D_LINEAR_WIDTH, 134217728)\n",
      "(pycuda._driver.device_attribute.MAXIMUM_TEXTURE2D_LINEAR_WIDTH, 131072)\n",
      "(pycuda._driver.device_attribute.MAXIMUM_TEXTURE2D_LINEAR_HEIGHT, 65000)\n",
      "(pycuda._driver.device_attribute.MAXIMUM_TEXTURE2D_LINEAR_PITCH, 2097120)\n",
      "(pycuda._driver.device_attribute.MAXIMUM_TEXTURE2D_MIPMAPPED_WIDTH, 32768)\n",
      "(pycuda._driver.device_attribute.MAXIMUM_TEXTURE2D_MIPMAPPED_HEIGHT, 32768)\n",
      "(pycuda._driver.device_attribute.COMPUTE_CAPABILITY_MAJOR, 6)\n",
      "(pycuda._driver.device_attribute.COMPUTE_CAPABILITY_MINOR, 1)\n",
      "(pycuda._driver.device_attribute.MAXIMUM_TEXTURE1D_MIPMAPPED_WIDTH, 16384)\n",
      "(pycuda._driver.device_attribute.STREAM_PRIORITIES_SUPPORTED, 1)\n",
      "(pycuda._driver.device_attribute.GLOBAL_L1_CACHE_SUPPORTED, 1)\n",
      "(pycuda._driver.device_attribute.LOCAL_L1_CACHE_SUPPORTED, 1)\n",
      "(pycuda._driver.device_attribute.MAX_SHARED_MEMORY_PER_MULTIPROCESSOR, 98304)\n",
      "(pycuda._driver.device_attribute.MAX_REGISTERS_PER_MULTIPROCESSOR, 65536)\n",
      "(pycuda._driver.device_attribute.MANAGED_MEMORY, 1)\n",
      "(pycuda._driver.device_attribute.MULTI_GPU_BOARD, 0)\n",
      "(pycuda._driver.device_attribute.MULTI_GPU_BOARD_GROUP_ID, 3)\n",
      "------------------\n",
      "------------------\n"
     ]
    }
   ],
   "source": [
    "for sp in devices:\n",
    "    print 'Name = ',sp.name()\n",
    "    print 'PCI Bus = ',sp.pci_bus_id()\n",
    "    print 'Compute Capability = ',sp.compute_capability()\n",
    "    print 'Total Memory = ',sp.total_memory()/(2.**20) , 'MBytes'\n",
    "    attr = sp.get_attributes()\n",
    "    for j in range(len(attr.items())):\n",
    "        print attr.items()[j]#,'Bytes (when apply)'\n",
    "    print '------------------'\n",
    "    print '------------------'"
   ]
  },
  {
   "cell_type": "markdown",
   "metadata": {
    "deletable": true,
    "editable": true
   },
   "source": [
    "MAX_THREADS_PER_BLOCK, 1024\n",
    "\n",
    "For example for a 3D mesh (less optimal), we only have avaiable $$8\\times 8\\times 8 = 512 \\,simetric$$ \n",
    " $$8\\times 8\\times 16 = 1024 \\,cilindrical$$\n",
    "block size per dimension = 8 or 16.\n",
    "In 2D case the optimal value is:\n",
    "$$32\\times32 = 1024$$\n",
    "In last case $$1024$$\n",
    "\n",
    "\n",
    "MAX_THREADS_PER_MULTIPROCESSOR, $1536 = 3*2^9$\n",
    "\n",
    "If we can take this literally, we can process in one processor about 3 meshes of $8\\times8\\times8$, or three blocks of 3D meshes. With this result, we can evaluate the eficience comparing cilindrical and simetric performance\n"
   ]
  },
  {
   "cell_type": "markdown",
   "metadata": {
    "deletable": true,
    "editable": true
   },
   "source": [
    "### Now your device has .."
   ]
  },
  {
   "cell_type": "code",
   "execution_count": 18,
   "metadata": {
    "collapsed": false,
    "deletable": true,
    "editable": true
   },
   "outputs": [
    {
     "data": {
      "text/plain": [
       "(8001.0, 'MB of Free Memory', 8114.0, 'MB Total Memory')"
      ]
     },
     "execution_count": 18,
     "metadata": {},
     "output_type": "execute_result"
    }
   ],
   "source": [
    "drv.mem_get_info()[0]/(2.**20),'MB of Free Memory',drv.mem_get_info()[1]/(2.**20),'MB Total Memory'"
   ]
  },
  {
   "cell_type": "markdown",
   "metadata": {
    "deletable": true,
    "editable": true
   },
   "source": [
    "Let's think in array sizes. For example a float of 4 bytes length:"
   ]
  },
  {
   "cell_type": "code",
   "execution_count": 17,
   "metadata": {
    "collapsed": false,
    "deletable": true,
    "editable": true
   },
   "outputs": [
    {
     "name": "stdout",
     "output_type": "stream",
     "text": [
      "Linear max: 32349952\n",
      "2D max: 5687.7018206\n",
      "3D max: 318.633338212\n"
     ]
    }
   ],
   "source": [
    "print 'Linear max:', drv.mem_get_info()[0]/(4*8)\n",
    "print '2D max:', np.sqrt(drv.mem_get_info()[0]/(4*8))\n",
    "print '3D max:', np.power(drv.mem_get_info()[0]/(4*8),1./3.)"
   ]
  },
  {
   "cell_type": "markdown",
   "metadata": {
    "deletable": true,
    "editable": true
   },
   "source": [
    "## GPU-ARRAY STRUCTURE"
   ]
  },
  {
   "cell_type": "code",
   "execution_count": 18,
   "metadata": {
    "collapsed": false,
    "deletable": true,
    "editable": true
   },
   "outputs": [],
   "source": [
    "import pycuda.gpuarray as gpuarray"
   ]
  },
  {
   "cell_type": "code",
   "execution_count": 19,
   "metadata": {
    "collapsed": false,
    "deletable": true,
    "editable": true
   },
   "outputs": [],
   "source": [
    "a = np.random.rand(10,20,30)"
   ]
  },
  {
   "cell_type": "code",
   "execution_count": 20,
   "metadata": {
    "collapsed": false,
    "deletable": true,
    "editable": true
   },
   "outputs": [
    {
     "data": {
      "text/plain": [
       "(10, 20, 30)"
      ]
     },
     "execution_count": 20,
     "metadata": {},
     "output_type": "execute_result"
    }
   ],
   "source": [
    "a.shape"
   ]
  },
  {
   "cell_type": "code",
   "execution_count": 21,
   "metadata": {
    "collapsed": false,
    "deletable": true,
    "editable": true
   },
   "outputs": [],
   "source": [
    "a_gpu = gpuarray.to_gpu(a)"
   ]
  },
  {
   "cell_type": "code",
   "execution_count": 22,
   "metadata": {
    "collapsed": false,
    "deletable": true,
    "editable": true
   },
   "outputs": [
    {
     "data": {
      "text/plain": [
       "<pycuda._driver.DeviceAllocation at 0x4c25280>"
      ]
     },
     "execution_count": 22,
     "metadata": {},
     "output_type": "execute_result"
    }
   ],
   "source": [
    "a_gpu.gpudata"
   ]
  },
  {
   "cell_type": "code",
   "execution_count": 23,
   "metadata": {
    "collapsed": false,
    "deletable": true,
    "editable": true
   },
   "outputs": [],
   "source": [
    "psi1_h = np.zeros( (1,10,100), dtype=np.complex64)"
   ]
  },
  {
   "cell_type": "code",
   "execution_count": 24,
   "metadata": {
    "collapsed": false,
    "deletable": true,
    "editable": true
   },
   "outputs": [
    {
     "data": {
      "text/plain": [
       "array([[[ 0.+0.j,  0.+0.j,  0.+0.j,  0.+0.j,  0.+0.j,  0.+0.j,  0.+0.j,\n",
       "          0.+0.j,  0.+0.j,  0.+0.j,  0.+0.j,  0.+0.j,  0.+0.j,  0.+0.j,\n",
       "          0.+0.j,  0.+0.j,  0.+0.j,  0.+0.j,  0.+0.j,  0.+0.j,  0.+0.j,\n",
       "          0.+0.j,  0.+0.j,  0.+0.j,  0.+0.j,  0.+0.j,  0.+0.j,  0.+0.j,\n",
       "          0.+0.j,  0.+0.j,  0.+0.j,  0.+0.j,  0.+0.j,  0.+0.j,  0.+0.j,\n",
       "          0.+0.j,  0.+0.j,  0.+0.j,  0.+0.j,  0.+0.j,  0.+0.j,  0.+0.j,\n",
       "          0.+0.j,  0.+0.j,  0.+0.j,  0.+0.j,  0.+0.j,  0.+0.j,  0.+0.j,\n",
       "          0.+0.j,  0.+0.j,  0.+0.j,  0.+0.j,  0.+0.j,  0.+0.j,  0.+0.j,\n",
       "          0.+0.j,  0.+0.j,  0.+0.j,  0.+0.j,  0.+0.j,  0.+0.j,  0.+0.j,\n",
       "          0.+0.j,  0.+0.j,  0.+0.j,  0.+0.j,  0.+0.j,  0.+0.j,  0.+0.j,\n",
       "          0.+0.j,  0.+0.j,  0.+0.j,  0.+0.j,  0.+0.j,  0.+0.j,  0.+0.j,\n",
       "          0.+0.j,  0.+0.j,  0.+0.j,  0.+0.j,  0.+0.j,  0.+0.j,  0.+0.j,\n",
       "          0.+0.j,  0.+0.j,  0.+0.j,  0.+0.j,  0.+0.j,  0.+0.j,  0.+0.j,\n",
       "          0.+0.j,  0.+0.j,  0.+0.j,  0.+0.j,  0.+0.j,  0.+0.j,  0.+0.j,\n",
       "          0.+0.j,  0.+0.j],\n",
       "        [ 0.+0.j,  0.+0.j,  0.+0.j,  0.+0.j,  0.+0.j,  0.+0.j,  0.+0.j,\n",
       "          0.+0.j,  0.+0.j,  0.+0.j,  0.+0.j,  0.+0.j,  0.+0.j,  0.+0.j,\n",
       "          0.+0.j,  0.+0.j,  0.+0.j,  0.+0.j,  0.+0.j,  0.+0.j,  0.+0.j,\n",
       "          0.+0.j,  0.+0.j,  0.+0.j,  0.+0.j,  0.+0.j,  0.+0.j,  0.+0.j,\n",
       "          0.+0.j,  0.+0.j,  0.+0.j,  0.+0.j,  0.+0.j,  0.+0.j,  0.+0.j,\n",
       "          0.+0.j,  0.+0.j,  0.+0.j,  0.+0.j,  0.+0.j,  0.+0.j,  0.+0.j,\n",
       "          0.+0.j,  0.+0.j,  0.+0.j,  0.+0.j,  0.+0.j,  0.+0.j,  0.+0.j,\n",
       "          0.+0.j,  0.+0.j,  0.+0.j,  0.+0.j,  0.+0.j,  0.+0.j,  0.+0.j,\n",
       "          0.+0.j,  0.+0.j,  0.+0.j,  0.+0.j,  0.+0.j,  0.+0.j,  0.+0.j,\n",
       "          0.+0.j,  0.+0.j,  0.+0.j,  0.+0.j,  0.+0.j,  0.+0.j,  0.+0.j,\n",
       "          0.+0.j,  0.+0.j,  0.+0.j,  0.+0.j,  0.+0.j,  0.+0.j,  0.+0.j,\n",
       "          0.+0.j,  0.+0.j,  0.+0.j,  0.+0.j,  0.+0.j,  0.+0.j,  0.+0.j,\n",
       "          0.+0.j,  0.+0.j,  0.+0.j,  0.+0.j,  0.+0.j,  0.+0.j,  0.+0.j,\n",
       "          0.+0.j,  0.+0.j,  0.+0.j,  0.+0.j,  0.+0.j,  0.+0.j,  0.+0.j,\n",
       "          0.+0.j,  0.+0.j],\n",
       "        [ 0.+0.j,  0.+0.j,  0.+0.j,  0.+0.j,  0.+0.j,  0.+0.j,  0.+0.j,\n",
       "          0.+0.j,  0.+0.j,  0.+0.j,  0.+0.j,  0.+0.j,  0.+0.j,  0.+0.j,\n",
       "          0.+0.j,  0.+0.j,  0.+0.j,  0.+0.j,  0.+0.j,  0.+0.j,  0.+0.j,\n",
       "          0.+0.j,  0.+0.j,  0.+0.j,  0.+0.j,  0.+0.j,  0.+0.j,  0.+0.j,\n",
       "          0.+0.j,  0.+0.j,  0.+0.j,  0.+0.j,  0.+0.j,  0.+0.j,  0.+0.j,\n",
       "          0.+0.j,  0.+0.j,  0.+0.j,  0.+0.j,  0.+0.j,  0.+0.j,  0.+0.j,\n",
       "          0.+0.j,  0.+0.j,  0.+0.j,  0.+0.j,  0.+0.j,  0.+0.j,  0.+0.j,\n",
       "          0.+0.j,  0.+0.j,  0.+0.j,  0.+0.j,  0.+0.j,  0.+0.j,  0.+0.j,\n",
       "          0.+0.j,  0.+0.j,  0.+0.j,  0.+0.j,  0.+0.j,  0.+0.j,  0.+0.j,\n",
       "          0.+0.j,  0.+0.j,  0.+0.j,  0.+0.j,  0.+0.j,  0.+0.j,  0.+0.j,\n",
       "          0.+0.j,  0.+0.j,  0.+0.j,  0.+0.j,  0.+0.j,  0.+0.j,  0.+0.j,\n",
       "          0.+0.j,  0.+0.j,  0.+0.j,  0.+0.j,  0.+0.j,  0.+0.j,  0.+0.j,\n",
       "          0.+0.j,  0.+0.j,  0.+0.j,  0.+0.j,  0.+0.j,  0.+0.j,  0.+0.j,\n",
       "          0.+0.j,  0.+0.j,  0.+0.j,  0.+0.j,  0.+0.j,  0.+0.j,  0.+0.j,\n",
       "          0.+0.j,  0.+0.j],\n",
       "        [ 0.+0.j,  0.+0.j,  0.+0.j,  0.+0.j,  0.+0.j,  0.+0.j,  0.+0.j,\n",
       "          0.+0.j,  0.+0.j,  0.+0.j,  0.+0.j,  0.+0.j,  0.+0.j,  0.+0.j,\n",
       "          0.+0.j,  0.+0.j,  0.+0.j,  0.+0.j,  0.+0.j,  0.+0.j,  0.+0.j,\n",
       "          0.+0.j,  0.+0.j,  0.+0.j,  0.+0.j,  0.+0.j,  0.+0.j,  0.+0.j,\n",
       "          0.+0.j,  0.+0.j,  0.+0.j,  0.+0.j,  0.+0.j,  0.+0.j,  0.+0.j,\n",
       "          0.+0.j,  0.+0.j,  0.+0.j,  0.+0.j,  0.+0.j,  0.+0.j,  0.+0.j,\n",
       "          0.+0.j,  0.+0.j,  0.+0.j,  0.+0.j,  0.+0.j,  0.+0.j,  0.+0.j,\n",
       "          0.+0.j,  0.+0.j,  0.+0.j,  0.+0.j,  0.+0.j,  0.+0.j,  0.+0.j,\n",
       "          0.+0.j,  0.+0.j,  0.+0.j,  0.+0.j,  0.+0.j,  0.+0.j,  0.+0.j,\n",
       "          0.+0.j,  0.+0.j,  0.+0.j,  0.+0.j,  0.+0.j,  0.+0.j,  0.+0.j,\n",
       "          0.+0.j,  0.+0.j,  0.+0.j,  0.+0.j,  0.+0.j,  0.+0.j,  0.+0.j,\n",
       "          0.+0.j,  0.+0.j,  0.+0.j,  0.+0.j,  0.+0.j,  0.+0.j,  0.+0.j,\n",
       "          0.+0.j,  0.+0.j,  0.+0.j,  0.+0.j,  0.+0.j,  0.+0.j,  0.+0.j,\n",
       "          0.+0.j,  0.+0.j,  0.+0.j,  0.+0.j,  0.+0.j,  0.+0.j,  0.+0.j,\n",
       "          0.+0.j,  0.+0.j],\n",
       "        [ 0.+0.j,  0.+0.j,  0.+0.j,  0.+0.j,  0.+0.j,  0.+0.j,  0.+0.j,\n",
       "          0.+0.j,  0.+0.j,  0.+0.j,  0.+0.j,  0.+0.j,  0.+0.j,  0.+0.j,\n",
       "          0.+0.j,  0.+0.j,  0.+0.j,  0.+0.j,  0.+0.j,  0.+0.j,  0.+0.j,\n",
       "          0.+0.j,  0.+0.j,  0.+0.j,  0.+0.j,  0.+0.j,  0.+0.j,  0.+0.j,\n",
       "          0.+0.j,  0.+0.j,  0.+0.j,  0.+0.j,  0.+0.j,  0.+0.j,  0.+0.j,\n",
       "          0.+0.j,  0.+0.j,  0.+0.j,  0.+0.j,  0.+0.j,  0.+0.j,  0.+0.j,\n",
       "          0.+0.j,  0.+0.j,  0.+0.j,  0.+0.j,  0.+0.j,  0.+0.j,  0.+0.j,\n",
       "          0.+0.j,  0.+0.j,  0.+0.j,  0.+0.j,  0.+0.j,  0.+0.j,  0.+0.j,\n",
       "          0.+0.j,  0.+0.j,  0.+0.j,  0.+0.j,  0.+0.j,  0.+0.j,  0.+0.j,\n",
       "          0.+0.j,  0.+0.j,  0.+0.j,  0.+0.j,  0.+0.j,  0.+0.j,  0.+0.j,\n",
       "          0.+0.j,  0.+0.j,  0.+0.j,  0.+0.j,  0.+0.j,  0.+0.j,  0.+0.j,\n",
       "          0.+0.j,  0.+0.j,  0.+0.j,  0.+0.j,  0.+0.j,  0.+0.j,  0.+0.j,\n",
       "          0.+0.j,  0.+0.j,  0.+0.j,  0.+0.j,  0.+0.j,  0.+0.j,  0.+0.j,\n",
       "          0.+0.j,  0.+0.j,  0.+0.j,  0.+0.j,  0.+0.j,  0.+0.j,  0.+0.j,\n",
       "          0.+0.j,  0.+0.j],\n",
       "        [ 0.+0.j,  0.+0.j,  0.+0.j,  0.+0.j,  0.+0.j,  0.+0.j,  0.+0.j,\n",
       "          0.+0.j,  0.+0.j,  0.+0.j,  0.+0.j,  0.+0.j,  0.+0.j,  0.+0.j,\n",
       "          0.+0.j,  0.+0.j,  0.+0.j,  0.+0.j,  0.+0.j,  0.+0.j,  0.+0.j,\n",
       "          0.+0.j,  0.+0.j,  0.+0.j,  0.+0.j,  0.+0.j,  0.+0.j,  0.+0.j,\n",
       "          0.+0.j,  0.+0.j,  0.+0.j,  0.+0.j,  0.+0.j,  0.+0.j,  0.+0.j,\n",
       "          0.+0.j,  0.+0.j,  0.+0.j,  0.+0.j,  0.+0.j,  0.+0.j,  0.+0.j,\n",
       "          0.+0.j,  0.+0.j,  0.+0.j,  0.+0.j,  0.+0.j,  0.+0.j,  0.+0.j,\n",
       "          0.+0.j,  0.+0.j,  0.+0.j,  0.+0.j,  0.+0.j,  0.+0.j,  0.+0.j,\n",
       "          0.+0.j,  0.+0.j,  0.+0.j,  0.+0.j,  0.+0.j,  0.+0.j,  0.+0.j,\n",
       "          0.+0.j,  0.+0.j,  0.+0.j,  0.+0.j,  0.+0.j,  0.+0.j,  0.+0.j,\n",
       "          0.+0.j,  0.+0.j,  0.+0.j,  0.+0.j,  0.+0.j,  0.+0.j,  0.+0.j,\n",
       "          0.+0.j,  0.+0.j,  0.+0.j,  0.+0.j,  0.+0.j,  0.+0.j,  0.+0.j,\n",
       "          0.+0.j,  0.+0.j,  0.+0.j,  0.+0.j,  0.+0.j,  0.+0.j,  0.+0.j,\n",
       "          0.+0.j,  0.+0.j,  0.+0.j,  0.+0.j,  0.+0.j,  0.+0.j,  0.+0.j,\n",
       "          0.+0.j,  0.+0.j],\n",
       "        [ 0.+0.j,  0.+0.j,  0.+0.j,  0.+0.j,  0.+0.j,  0.+0.j,  0.+0.j,\n",
       "          0.+0.j,  0.+0.j,  0.+0.j,  0.+0.j,  0.+0.j,  0.+0.j,  0.+0.j,\n",
       "          0.+0.j,  0.+0.j,  0.+0.j,  0.+0.j,  0.+0.j,  0.+0.j,  0.+0.j,\n",
       "          0.+0.j,  0.+0.j,  0.+0.j,  0.+0.j,  0.+0.j,  0.+0.j,  0.+0.j,\n",
       "          0.+0.j,  0.+0.j,  0.+0.j,  0.+0.j,  0.+0.j,  0.+0.j,  0.+0.j,\n",
       "          0.+0.j,  0.+0.j,  0.+0.j,  0.+0.j,  0.+0.j,  0.+0.j,  0.+0.j,\n",
       "          0.+0.j,  0.+0.j,  0.+0.j,  0.+0.j,  0.+0.j,  0.+0.j,  0.+0.j,\n",
       "          0.+0.j,  0.+0.j,  0.+0.j,  0.+0.j,  0.+0.j,  0.+0.j,  0.+0.j,\n",
       "          0.+0.j,  0.+0.j,  0.+0.j,  0.+0.j,  0.+0.j,  0.+0.j,  0.+0.j,\n",
       "          0.+0.j,  0.+0.j,  0.+0.j,  0.+0.j,  0.+0.j,  0.+0.j,  0.+0.j,\n",
       "          0.+0.j,  0.+0.j,  0.+0.j,  0.+0.j,  0.+0.j,  0.+0.j,  0.+0.j,\n",
       "          0.+0.j,  0.+0.j,  0.+0.j,  0.+0.j,  0.+0.j,  0.+0.j,  0.+0.j,\n",
       "          0.+0.j,  0.+0.j,  0.+0.j,  0.+0.j,  0.+0.j,  0.+0.j,  0.+0.j,\n",
       "          0.+0.j,  0.+0.j,  0.+0.j,  0.+0.j,  0.+0.j,  0.+0.j,  0.+0.j,\n",
       "          0.+0.j,  0.+0.j],\n",
       "        [ 0.+0.j,  0.+0.j,  0.+0.j,  0.+0.j,  0.+0.j,  0.+0.j,  0.+0.j,\n",
       "          0.+0.j,  0.+0.j,  0.+0.j,  0.+0.j,  0.+0.j,  0.+0.j,  0.+0.j,\n",
       "          0.+0.j,  0.+0.j,  0.+0.j,  0.+0.j,  0.+0.j,  0.+0.j,  0.+0.j,\n",
       "          0.+0.j,  0.+0.j,  0.+0.j,  0.+0.j,  0.+0.j,  0.+0.j,  0.+0.j,\n",
       "          0.+0.j,  0.+0.j,  0.+0.j,  0.+0.j,  0.+0.j,  0.+0.j,  0.+0.j,\n",
       "          0.+0.j,  0.+0.j,  0.+0.j,  0.+0.j,  0.+0.j,  0.+0.j,  0.+0.j,\n",
       "          0.+0.j,  0.+0.j,  0.+0.j,  0.+0.j,  0.+0.j,  0.+0.j,  0.+0.j,\n",
       "          0.+0.j,  0.+0.j,  0.+0.j,  0.+0.j,  0.+0.j,  0.+0.j,  0.+0.j,\n",
       "          0.+0.j,  0.+0.j,  0.+0.j,  0.+0.j,  0.+0.j,  0.+0.j,  0.+0.j,\n",
       "          0.+0.j,  0.+0.j,  0.+0.j,  0.+0.j,  0.+0.j,  0.+0.j,  0.+0.j,\n",
       "          0.+0.j,  0.+0.j,  0.+0.j,  0.+0.j,  0.+0.j,  0.+0.j,  0.+0.j,\n",
       "          0.+0.j,  0.+0.j,  0.+0.j,  0.+0.j,  0.+0.j,  0.+0.j,  0.+0.j,\n",
       "          0.+0.j,  0.+0.j,  0.+0.j,  0.+0.j,  0.+0.j,  0.+0.j,  0.+0.j,\n",
       "          0.+0.j,  0.+0.j,  0.+0.j,  0.+0.j,  0.+0.j,  0.+0.j,  0.+0.j,\n",
       "          0.+0.j,  0.+0.j],\n",
       "        [ 0.+0.j,  0.+0.j,  0.+0.j,  0.+0.j,  0.+0.j,  0.+0.j,  0.+0.j,\n",
       "          0.+0.j,  0.+0.j,  0.+0.j,  0.+0.j,  0.+0.j,  0.+0.j,  0.+0.j,\n",
       "          0.+0.j,  0.+0.j,  0.+0.j,  0.+0.j,  0.+0.j,  0.+0.j,  0.+0.j,\n",
       "          0.+0.j,  0.+0.j,  0.+0.j,  0.+0.j,  0.+0.j,  0.+0.j,  0.+0.j,\n",
       "          0.+0.j,  0.+0.j,  0.+0.j,  0.+0.j,  0.+0.j,  0.+0.j,  0.+0.j,\n",
       "          0.+0.j,  0.+0.j,  0.+0.j,  0.+0.j,  0.+0.j,  0.+0.j,  0.+0.j,\n",
       "          0.+0.j,  0.+0.j,  0.+0.j,  0.+0.j,  0.+0.j,  0.+0.j,  0.+0.j,\n",
       "          0.+0.j,  0.+0.j,  0.+0.j,  0.+0.j,  0.+0.j,  0.+0.j,  0.+0.j,\n",
       "          0.+0.j,  0.+0.j,  0.+0.j,  0.+0.j,  0.+0.j,  0.+0.j,  0.+0.j,\n",
       "          0.+0.j,  0.+0.j,  0.+0.j,  0.+0.j,  0.+0.j,  0.+0.j,  0.+0.j,\n",
       "          0.+0.j,  0.+0.j,  0.+0.j,  0.+0.j,  0.+0.j,  0.+0.j,  0.+0.j,\n",
       "          0.+0.j,  0.+0.j,  0.+0.j,  0.+0.j,  0.+0.j,  0.+0.j,  0.+0.j,\n",
       "          0.+0.j,  0.+0.j,  0.+0.j,  0.+0.j,  0.+0.j,  0.+0.j,  0.+0.j,\n",
       "          0.+0.j,  0.+0.j,  0.+0.j,  0.+0.j,  0.+0.j,  0.+0.j,  0.+0.j,\n",
       "          0.+0.j,  0.+0.j],\n",
       "        [ 0.+0.j,  0.+0.j,  0.+0.j,  0.+0.j,  0.+0.j,  0.+0.j,  0.+0.j,\n",
       "          0.+0.j,  0.+0.j,  0.+0.j,  0.+0.j,  0.+0.j,  0.+0.j,  0.+0.j,\n",
       "          0.+0.j,  0.+0.j,  0.+0.j,  0.+0.j,  0.+0.j,  0.+0.j,  0.+0.j,\n",
       "          0.+0.j,  0.+0.j,  0.+0.j,  0.+0.j,  0.+0.j,  0.+0.j,  0.+0.j,\n",
       "          0.+0.j,  0.+0.j,  0.+0.j,  0.+0.j,  0.+0.j,  0.+0.j,  0.+0.j,\n",
       "          0.+0.j,  0.+0.j,  0.+0.j,  0.+0.j,  0.+0.j,  0.+0.j,  0.+0.j,\n",
       "          0.+0.j,  0.+0.j,  0.+0.j,  0.+0.j,  0.+0.j,  0.+0.j,  0.+0.j,\n",
       "          0.+0.j,  0.+0.j,  0.+0.j,  0.+0.j,  0.+0.j,  0.+0.j,  0.+0.j,\n",
       "          0.+0.j,  0.+0.j,  0.+0.j,  0.+0.j,  0.+0.j,  0.+0.j,  0.+0.j,\n",
       "          0.+0.j,  0.+0.j,  0.+0.j,  0.+0.j,  0.+0.j,  0.+0.j,  0.+0.j,\n",
       "          0.+0.j,  0.+0.j,  0.+0.j,  0.+0.j,  0.+0.j,  0.+0.j,  0.+0.j,\n",
       "          0.+0.j,  0.+0.j,  0.+0.j,  0.+0.j,  0.+0.j,  0.+0.j,  0.+0.j,\n",
       "          0.+0.j,  0.+0.j,  0.+0.j,  0.+0.j,  0.+0.j,  0.+0.j,  0.+0.j,\n",
       "          0.+0.j,  0.+0.j,  0.+0.j,  0.+0.j,  0.+0.j,  0.+0.j,  0.+0.j,\n",
       "          0.+0.j,  0.+0.j]]], dtype=complex64)"
      ]
     },
     "execution_count": 24,
     "metadata": {},
     "output_type": "execute_result"
    }
   ],
   "source": [
    "psi1_h"
   ]
  },
  {
   "cell_type": "code",
   "execution_count": 25,
   "metadata": {
    "collapsed": false,
    "deletable": true,
    "editable": true
   },
   "outputs": [],
   "source": [
    "b=psi1_h.real"
   ]
  },
  {
   "cell_type": "code",
   "execution_count": 26,
   "metadata": {
    "collapsed": false,
    "deletable": true,
    "editable": true
   },
   "outputs": [
    {
     "data": {
      "text/plain": [
       "array([[[ 0.,  0.,  0.,  0.,  0.,  0.,  0.,  0.,  0.,  0.,  0.,  0.,  0.,\n",
       "          0.,  0.,  0.,  0.,  0.,  0.,  0.,  0.,  0.,  0.,  0.,  0.,  0.,\n",
       "          0.,  0.,  0.,  0.,  0.,  0.,  0.,  0.,  0.,  0.,  0.,  0.,  0.,\n",
       "          0.,  0.,  0.,  0.,  0.,  0.,  0.,  0.,  0.,  0.,  0.,  0.,  0.,\n",
       "          0.,  0.,  0.,  0.,  0.,  0.,  0.,  0.,  0.,  0.,  0.,  0.,  0.,\n",
       "          0.,  0.,  0.,  0.,  0.,  0.,  0.,  0.,  0.,  0.,  0.,  0.,  0.,\n",
       "          0.,  0.,  0.,  0.,  0.,  0.,  0.,  0.,  0.,  0.,  0.,  0.,  0.,\n",
       "          0.,  0.,  0.,  0.,  0.,  0.,  0.,  0.,  0.],\n",
       "        [ 0.,  0.,  0.,  0.,  0.,  0.,  0.,  0.,  0.,  0.,  0.,  0.,  0.,\n",
       "          0.,  0.,  0.,  0.,  0.,  0.,  0.,  0.,  0.,  0.,  0.,  0.,  0.,\n",
       "          0.,  0.,  0.,  0.,  0.,  0.,  0.,  0.,  0.,  0.,  0.,  0.,  0.,\n",
       "          0.,  0.,  0.,  0.,  0.,  0.,  0.,  0.,  0.,  0.,  0.,  0.,  0.,\n",
       "          0.,  0.,  0.,  0.,  0.,  0.,  0.,  0.,  0.,  0.,  0.,  0.,  0.,\n",
       "          0.,  0.,  0.,  0.,  0.,  0.,  0.,  0.,  0.,  0.,  0.,  0.,  0.,\n",
       "          0.,  0.,  0.,  0.,  0.,  0.,  0.,  0.,  0.,  0.,  0.,  0.,  0.,\n",
       "          0.,  0.,  0.,  0.,  0.,  0.,  0.,  0.,  0.],\n",
       "        [ 0.,  0.,  0.,  0.,  0.,  0.,  0.,  0.,  0.,  0.,  0.,  0.,  0.,\n",
       "          0.,  0.,  0.,  0.,  0.,  0.,  0.,  0.,  0.,  0.,  0.,  0.,  0.,\n",
       "          0.,  0.,  0.,  0.,  0.,  0.,  0.,  0.,  0.,  0.,  0.,  0.,  0.,\n",
       "          0.,  0.,  0.,  0.,  0.,  0.,  0.,  0.,  0.,  0.,  0.,  0.,  0.,\n",
       "          0.,  0.,  0.,  0.,  0.,  0.,  0.,  0.,  0.,  0.,  0.,  0.,  0.,\n",
       "          0.,  0.,  0.,  0.,  0.,  0.,  0.,  0.,  0.,  0.,  0.,  0.,  0.,\n",
       "          0.,  0.,  0.,  0.,  0.,  0.,  0.,  0.,  0.,  0.,  0.,  0.,  0.,\n",
       "          0.,  0.,  0.,  0.,  0.,  0.,  0.,  0.,  0.],\n",
       "        [ 0.,  0.,  0.,  0.,  0.,  0.,  0.,  0.,  0.,  0.,  0.,  0.,  0.,\n",
       "          0.,  0.,  0.,  0.,  0.,  0.,  0.,  0.,  0.,  0.,  0.,  0.,  0.,\n",
       "          0.,  0.,  0.,  0.,  0.,  0.,  0.,  0.,  0.,  0.,  0.,  0.,  0.,\n",
       "          0.,  0.,  0.,  0.,  0.,  0.,  0.,  0.,  0.,  0.,  0.,  0.,  0.,\n",
       "          0.,  0.,  0.,  0.,  0.,  0.,  0.,  0.,  0.,  0.,  0.,  0.,  0.,\n",
       "          0.,  0.,  0.,  0.,  0.,  0.,  0.,  0.,  0.,  0.,  0.,  0.,  0.,\n",
       "          0.,  0.,  0.,  0.,  0.,  0.,  0.,  0.,  0.,  0.,  0.,  0.,  0.,\n",
       "          0.,  0.,  0.,  0.,  0.,  0.,  0.,  0.,  0.],\n",
       "        [ 0.,  0.,  0.,  0.,  0.,  0.,  0.,  0.,  0.,  0.,  0.,  0.,  0.,\n",
       "          0.,  0.,  0.,  0.,  0.,  0.,  0.,  0.,  0.,  0.,  0.,  0.,  0.,\n",
       "          0.,  0.,  0.,  0.,  0.,  0.,  0.,  0.,  0.,  0.,  0.,  0.,  0.,\n",
       "          0.,  0.,  0.,  0.,  0.,  0.,  0.,  0.,  0.,  0.,  0.,  0.,  0.,\n",
       "          0.,  0.,  0.,  0.,  0.,  0.,  0.,  0.,  0.,  0.,  0.,  0.,  0.,\n",
       "          0.,  0.,  0.,  0.,  0.,  0.,  0.,  0.,  0.,  0.,  0.,  0.,  0.,\n",
       "          0.,  0.,  0.,  0.,  0.,  0.,  0.,  0.,  0.,  0.,  0.,  0.,  0.,\n",
       "          0.,  0.,  0.,  0.,  0.,  0.,  0.,  0.,  0.],\n",
       "        [ 0.,  0.,  0.,  0.,  0.,  0.,  0.,  0.,  0.,  0.,  0.,  0.,  0.,\n",
       "          0.,  0.,  0.,  0.,  0.,  0.,  0.,  0.,  0.,  0.,  0.,  0.,  0.,\n",
       "          0.,  0.,  0.,  0.,  0.,  0.,  0.,  0.,  0.,  0.,  0.,  0.,  0.,\n",
       "          0.,  0.,  0.,  0.,  0.,  0.,  0.,  0.,  0.,  0.,  0.,  0.,  0.,\n",
       "          0.,  0.,  0.,  0.,  0.,  0.,  0.,  0.,  0.,  0.,  0.,  0.,  0.,\n",
       "          0.,  0.,  0.,  0.,  0.,  0.,  0.,  0.,  0.,  0.,  0.,  0.,  0.,\n",
       "          0.,  0.,  0.,  0.,  0.,  0.,  0.,  0.,  0.,  0.,  0.,  0.,  0.,\n",
       "          0.,  0.,  0.,  0.,  0.,  0.,  0.,  0.,  0.],\n",
       "        [ 0.,  0.,  0.,  0.,  0.,  0.,  0.,  0.,  0.,  0.,  0.,  0.,  0.,\n",
       "          0.,  0.,  0.,  0.,  0.,  0.,  0.,  0.,  0.,  0.,  0.,  0.,  0.,\n",
       "          0.,  0.,  0.,  0.,  0.,  0.,  0.,  0.,  0.,  0.,  0.,  0.,  0.,\n",
       "          0.,  0.,  0.,  0.,  0.,  0.,  0.,  0.,  0.,  0.,  0.,  0.,  0.,\n",
       "          0.,  0.,  0.,  0.,  0.,  0.,  0.,  0.,  0.,  0.,  0.,  0.,  0.,\n",
       "          0.,  0.,  0.,  0.,  0.,  0.,  0.,  0.,  0.,  0.,  0.,  0.,  0.,\n",
       "          0.,  0.,  0.,  0.,  0.,  0.,  0.,  0.,  0.,  0.,  0.,  0.,  0.,\n",
       "          0.,  0.,  0.,  0.,  0.,  0.,  0.,  0.,  0.],\n",
       "        [ 0.,  0.,  0.,  0.,  0.,  0.,  0.,  0.,  0.,  0.,  0.,  0.,  0.,\n",
       "          0.,  0.,  0.,  0.,  0.,  0.,  0.,  0.,  0.,  0.,  0.,  0.,  0.,\n",
       "          0.,  0.,  0.,  0.,  0.,  0.,  0.,  0.,  0.,  0.,  0.,  0.,  0.,\n",
       "          0.,  0.,  0.,  0.,  0.,  0.,  0.,  0.,  0.,  0.,  0.,  0.,  0.,\n",
       "          0.,  0.,  0.,  0.,  0.,  0.,  0.,  0.,  0.,  0.,  0.,  0.,  0.,\n",
       "          0.,  0.,  0.,  0.,  0.,  0.,  0.,  0.,  0.,  0.,  0.,  0.,  0.,\n",
       "          0.,  0.,  0.,  0.,  0.,  0.,  0.,  0.,  0.,  0.,  0.,  0.,  0.,\n",
       "          0.,  0.,  0.,  0.,  0.,  0.,  0.,  0.,  0.],\n",
       "        [ 0.,  0.,  0.,  0.,  0.,  0.,  0.,  0.,  0.,  0.,  0.,  0.,  0.,\n",
       "          0.,  0.,  0.,  0.,  0.,  0.,  0.,  0.,  0.,  0.,  0.,  0.,  0.,\n",
       "          0.,  0.,  0.,  0.,  0.,  0.,  0.,  0.,  0.,  0.,  0.,  0.,  0.,\n",
       "          0.,  0.,  0.,  0.,  0.,  0.,  0.,  0.,  0.,  0.,  0.,  0.,  0.,\n",
       "          0.,  0.,  0.,  0.,  0.,  0.,  0.,  0.,  0.,  0.,  0.,  0.,  0.,\n",
       "          0.,  0.,  0.,  0.,  0.,  0.,  0.,  0.,  0.,  0.,  0.,  0.,  0.,\n",
       "          0.,  0.,  0.,  0.,  0.,  0.,  0.,  0.,  0.,  0.,  0.,  0.,  0.,\n",
       "          0.,  0.,  0.,  0.,  0.,  0.,  0.,  0.,  0.],\n",
       "        [ 0.,  0.,  0.,  0.,  0.,  0.,  0.,  0.,  0.,  0.,  0.,  0.,  0.,\n",
       "          0.,  0.,  0.,  0.,  0.,  0.,  0.,  0.,  0.,  0.,  0.,  0.,  0.,\n",
       "          0.,  0.,  0.,  0.,  0.,  0.,  0.,  0.,  0.,  0.,  0.,  0.,  0.,\n",
       "          0.,  0.,  0.,  0.,  0.,  0.,  0.,  0.,  0.,  0.,  0.,  0.,  0.,\n",
       "          0.,  0.,  0.,  0.,  0.,  0.,  0.,  0.,  0.,  0.,  0.,  0.,  0.,\n",
       "          0.,  0.,  0.,  0.,  0.,  0.,  0.,  0.,  0.,  0.,  0.,  0.,  0.,\n",
       "          0.,  0.,  0.,  0.,  0.,  0.,  0.,  0.,  0.,  0.,  0.,  0.,  0.,\n",
       "          0.,  0.,  0.,  0.,  0.,  0.,  0.,  0.,  0.]]], dtype=float32)"
      ]
     },
     "execution_count": 26,
     "metadata": {},
     "output_type": "execute_result"
    }
   ],
   "source": [
    "b"
   ]
  },
  {
   "cell_type": "code",
   "execution_count": 26,
   "metadata": {
    "collapsed": false,
    "deletable": true,
    "editable": true
   },
   "outputs": [],
   "source": []
  }
 ],
 "metadata": {
  "kernelspec": {
   "display_name": "Python 2",
   "language": "python",
   "name": "python2"
  },
  "language_info": {
   "codemirror_mode": {
    "name": "ipython",
    "version": 2
   },
   "file_extension": ".py",
   "mimetype": "text/x-python",
   "name": "python",
   "nbconvert_exporter": "python",
   "pygments_lexer": "ipython2",
   "version": "2.7.12"
  }
 },
 "nbformat": 4,
 "nbformat_minor": 0
}
