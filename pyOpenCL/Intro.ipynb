{
 "cells": [
  {
   "cell_type": "markdown",
   "metadata": {
    "deletable": true,
    "editable": true
   },
   "source": [
    "# PyOpenCL basics."
   ]
  },
  {
   "cell_type": "code",
   "execution_count": 1,
   "metadata": {
    "collapsed": false,
    "deletable": true,
    "editable": true
   },
   "outputs": [],
   "source": [
    "#%install_ext https://github.com/dpsanders/ipython_extensions/tree/master/section_numbering\n",
    "#%load_ext secnum\n",
    "#%secnum"
   ]
  },
  {
   "cell_type": "code",
   "execution_count": 2,
   "metadata": {
    "collapsed": false,
    "deletable": true,
    "editable": true
   },
   "outputs": [],
   "source": [
    "# to install, execute in a cell: \n",
    "#%install_ext https://raw.github.com/minrk/ipython_extensions/master/nbtoc.py\n",
    "# Optional for index view\n",
    "#%load_ext nbtoc\n",
    "#%nbtoc"
   ]
  },
  {
   "cell_type": "markdown",
   "metadata": {
    "deletable": true,
    "editable": true
   },
   "source": [
    "## Versions"
   ]
  },
  {
   "cell_type": "markdown",
   "metadata": {
    "collapsed": false,
    "deletable": true,
    "editable": true
   },
   "source": [
    "%install_ext http://raw.github.com/jrjohansson/version_information/master/version_information.py\n",
    "%load_ext version_information\n",
    "%version_information numpy, scipy, matplotlib, sympy, pyopencl"
   ]
  },
  {
   "cell_type": "code",
   "execution_count": 3,
   "metadata": {
    "collapsed": false,
    "deletable": true,
    "editable": true
   },
   "outputs": [],
   "source": [
    "import pyopencl as pycl\n",
    "import numpy as np"
   ]
  },
  {
   "cell_type": "code",
   "execution_count": 4,
   "metadata": {
    "collapsed": false,
    "deletable": true,
    "editable": true
   },
   "outputs": [
    {
     "data": {
      "text/plain": [
       "(2016, 2, 1)"
      ]
     },
     "execution_count": 4,
     "metadata": {},
     "output_type": "execute_result"
    }
   ],
   "source": [
    "pycl.VERSION"
   ]
  },
  {
   "cell_type": "code",
   "execution_count": 5,
   "metadata": {
    "collapsed": false,
    "deletable": true,
    "editable": true
   },
   "outputs": [
    {
     "name": "stdout",
     "output_type": "stream",
     "text": [
      "OpenCL version 1.2\n"
     ]
    }
   ],
   "source": [
    "vCL = pycl.get_cl_header_version()\n",
    "print \"OpenCL version {}.{}\".format(vCL[0],vCL[1])"
   ]
  },
  {
   "cell_type": "markdown",
   "metadata": {
    "deletable": true,
    "editable": true
   },
   "source": [
    "## Exploring your GPU device."
   ]
  },
  {
   "cell_type": "markdown",
   "metadata": {
    "deletable": true,
    "editable": true
   },
   "source": [
    "Platform"
   ]
  },
  {
   "cell_type": "code",
   "execution_count": 6,
   "metadata": {
    "collapsed": false,
    "deletable": true,
    "editable": true
   },
   "outputs": [],
   "source": [
    "platforms = pycl.get_platforms()"
   ]
  },
  {
   "cell_type": "code",
   "execution_count": 7,
   "metadata": {
    "collapsed": false,
    "deletable": true,
    "editable": true
   },
   "outputs": [
    {
     "name": "stdout",
     "output_type": "stream",
     "text": [
      "[<pyopencl.Platform 'NVIDIA CUDA' at 0x1fd1c10>]\n"
     ]
    }
   ],
   "source": [
    "print platforms"
   ]
  },
  {
   "cell_type": "code",
   "execution_count": 10,
   "metadata": {
    "collapsed": false,
    "deletable": true,
    "editable": true
   },
   "outputs": [],
   "source": [
    "plCUDA = platforms[0]\n",
    "#plAMD  = platforms[0]"
   ]
  },
  {
   "cell_type": "code",
   "execution_count": 11,
   "metadata": {
    "collapsed": false,
    "deletable": true,
    "editable": true
   },
   "outputs": [],
   "source": [
    "#devCL = plAMD.get_devices()\n",
    "devCU = plCUDA.get_devices()"
   ]
  },
  {
   "cell_type": "code",
   "execution_count": 13,
   "metadata": {
    "collapsed": false,
    "deletable": true,
    "editable": true
   },
   "outputs": [
    {
     "data": {
      "text/plain": [
       "[<pyopencl.Device 'GeForce GTX 1080' on 'NVIDIA CUDA' at 0x20c4630>,\n",
       " <pyopencl.Device 'GeForce GTX 1080' on 'NVIDIA CUDA' at 0x225c7f0>,\n",
       " <pyopencl.Device 'GeForce GTX 1080' on 'NVIDIA CUDA' at 0x22a2610>,\n",
       " <pyopencl.Device 'GeForce GTX 1080' on 'NVIDIA CUDA' at 0x22a2660>]"
      ]
     },
     "execution_count": 13,
     "metadata": {},
     "output_type": "execute_result"
    }
   ],
   "source": [
    "#devCL, \n",
    "devCU"
   ]
  },
  {
   "cell_type": "code",
   "execution_count": 19,
   "metadata": {
    "collapsed": false,
    "deletable": true,
    "editable": true
   },
   "outputs": [
    {
     "name": "stdout",
     "output_type": "stream",
     "text": [
      "NVIDIA CUDA\n",
      "OpenCL 1.2 CUDA 8.0.0\n",
      "NVIDIA Corporation\n",
      "cl_khr_global_int32_base_atomics cl_khr_global_int32_extended_atomics cl_khr_local_int32_base_atomics cl_khr_local_int32_extended_atomics cl_khr_fp64 cl_khr_byte_addressable_store cl_khr_icd cl_khr_gl_sharing cl_nv_compiler_options cl_nv_device_attribute_query cl_nv_pragma_unroll cl_nv_copy_opts\n",
      "FULL_PROFILE\n",
      "______________\n",
      "              \n"
     ]
    }
   ],
   "source": [
    "devs = []\n",
    "i = 0\n",
    "for pl in platforms:\n",
    "    print pl.name\n",
    "    print pl.version\n",
    "    print pl.vendor\n",
    "    print pl.extensions\n",
    "    print pl.profile\n",
    "    print '______________'\n",
    "    print '              '\n",
    "    devs.append(pl.get_devices()[i])\n",
    "    i+=1"
   ]
  },
  {
   "cell_type": "code",
   "execution_count": 20,
   "metadata": {
    "collapsed": false,
    "deletable": true,
    "editable": true
   },
   "outputs": [
    {
     "data": {
      "text/plain": [
       "[<pyopencl.Device 'GeForce GTX 1080' on 'NVIDIA CUDA' at 0x20c4630>]"
      ]
     },
     "execution_count": 20,
     "metadata": {},
     "output_type": "execute_result"
    }
   ],
   "source": [
    "devs"
   ]
  },
  {
   "cell_type": "code",
   "execution_count": 21,
   "metadata": {
    "collapsed": false,
    "deletable": true,
    "editable": true
   },
   "outputs": [],
   "source": [
    "a=devCU[0]"
   ]
  },
  {
   "cell_type": "code",
   "execution_count": 22,
   "metadata": {
    "collapsed": false,
    "deletable": true,
    "editable": true
   },
   "outputs": [
    {
     "data": {
      "text/plain": [
       "'NVIDIA CUDA'"
      ]
     },
     "execution_count": 22,
     "metadata": {},
     "output_type": "execute_result"
    }
   ],
   "source": [
    "a.platform.name"
   ]
  },
  {
   "cell_type": "code",
   "execution_count": 15,
   "metadata": {
    "collapsed": false,
    "deletable": true,
    "editable": true
   },
   "outputs": [],
   "source": []
  },
  {
   "cell_type": "markdown",
   "metadata": {
    "deletable": true,
    "editable": true
   },
   "source": [
    "Devices and properties"
   ]
  },
  {
   "cell_type": "code",
   "execution_count": 24,
   "metadata": {
    "collapsed": false,
    "deletable": true,
    "editable": true
   },
   "outputs": [
    {
     "name": "stdout",
     "output_type": "stream",
     "text": [
      "---------------------------------------------------------------\n",
      "('Device name:', 'GeForce GTX 1080')\n",
      "('Device type:', 'GPU')\n",
      "('Device memory: ', 8114L, 'MB')\n",
      "('Device max clock speed:', 1847, 'MHz')\n",
      "('Device compute units:', 20)\n",
      "('Device max work group size:', 1024L)\n",
      "('Device warp size:', 32)\n",
      "====== IMAGE ======\n",
      "('Device image support:', 1)\n",
      "('Device image 2D max dimensions: [', 32768L, ',', 16384L, ']')\n",
      "('Device image 3D max dimensions: [', 16384L, ',', 16384L, ',', 16384L, ']')\n",
      "---------------------------------------------------------------\n",
      "('Device name:', 'GeForce GTX 1080')\n",
      "('Device type:', 'GPU')\n",
      "('Device memory: ', 8114L, 'MB')\n",
      "('Device max clock speed:', 1847, 'MHz')\n",
      "('Device compute units:', 20)\n",
      "('Device max work group size:', 1024L)\n",
      "('Device warp size:', 32)\n",
      "====== IMAGE ======\n",
      "('Device image support:', 1)\n",
      "('Device image 2D max dimensions: [', 32768L, ',', 16384L, ']')\n",
      "('Device image 3D max dimensions: [', 16384L, ',', 16384L, ',', 16384L, ']')\n",
      "---------------------------------------------------------------\n",
      "('Device name:', 'GeForce GTX 1080')\n",
      "('Device type:', 'GPU')\n",
      "('Device memory: ', 8114L, 'MB')\n",
      "('Device max clock speed:', 1847, 'MHz')\n",
      "('Device compute units:', 20)\n",
      "('Device max work group size:', 1024L)\n",
      "('Device warp size:', 32)\n",
      "====== IMAGE ======\n",
      "('Device image support:', 1)\n",
      "('Device image 2D max dimensions: [', 32768L, ',', 16384L, ']')\n",
      "('Device image 3D max dimensions: [', 16384L, ',', 16384L, ',', 16384L, ']')\n",
      "---------------------------------------------------------------\n",
      "('Device name:', 'GeForce GTX 1080')\n",
      "('Device type:', 'GPU')\n",
      "('Device memory: ', 8110L, 'MB')\n",
      "('Device max clock speed:', 1847, 'MHz')\n",
      "('Device compute units:', 20)\n",
      "('Device max work group size:', 1024L)\n",
      "('Device warp size:', 32)\n",
      "====== IMAGE ======\n",
      "('Device image support:', 1)\n",
      "('Device image 2D max dimensions: [', 32768L, ',', 16384L, ']')\n",
      "('Device image 3D max dimensions: [', 16384L, ',', 16384L, ',', 16384L, ']')\n"
     ]
    }
   ],
   "source": [
    "for device in devCU:\n",
    "        print(\"---------------------------------------------------------------\")\n",
    "        print(\"Device name:\", device.name)\n",
    "        print(\"Device type:\", pycl.device_type.to_string(device.type))\n",
    "        print(\"Device memory: \", device.global_mem_size//1024//1024, 'MB')\n",
    "        print(\"Device max clock speed:\", device.max_clock_frequency, 'MHz')\n",
    "        print(\"Device compute units:\", device.max_compute_units)\n",
    "        print(\"Device max work group size:\", device.max_work_group_size)\n",
    "        if device.platform.name =='NVIDIA CUDA':\n",
    "            print(\"Device warp size:\", device.warp_size_nv)\n",
    "        print(\"====== IMAGE ======\")\n",
    "        print('Device image support:', device.image_support)\n",
    "        print('Device image 2D max dimensions: [', device.image2d_max_height,',',device.image2d_max_width,']')\n",
    "        print('Device image 3D max dimensions: [', device.image3d_max_height,',',device.image3d_max_width,',',device.image3d_max_depth,']')"
   ]
  },
  {
   "cell_type": "code",
   "execution_count": 25,
   "metadata": {
    "collapsed": false,
    "deletable": true,
    "editable": true
   },
   "outputs": [
    {
     "data": {
      "text/plain": [
       "63L"
      ]
     },
     "execution_count": 25,
     "metadata": {},
     "output_type": "execute_result"
    }
   ],
   "source": [
    "devs[0].double_fp_config"
   ]
  },
  {
   "cell_type": "markdown",
   "metadata": {
    "deletable": true,
    "editable": true
   },
   "source": [
    "## Default Context and Arrays"
   ]
  },
  {
   "cell_type": "markdown",
   "metadata": {
    "deletable": true,
    "editable": true
   },
   "source": [
    "**Default Context**"
   ]
  },
  {
   "cell_type": "code",
   "execution_count": 26,
   "metadata": {
    "collapsed": false,
    "deletable": true,
    "editable": true
   },
   "outputs": [],
   "source": [
    "ctx = pycl.Context(devCU)\n",
    "queue = pycl.CommandQueue(ctx)"
   ]
  },
  {
   "cell_type": "code",
   "execution_count": 27,
   "metadata": {
    "collapsed": false,
    "deletable": true,
    "editable": true
   },
   "outputs": [],
   "source": [
    "ctx = pycl.Context"
   ]
  },
  {
   "cell_type": "code",
   "execution_count": 28,
   "metadata": {
    "collapsed": false,
    "deletable": true,
    "editable": true
   },
   "outputs": [],
   "source": [
    "ctx = pycl.create_some_context"
   ]
  },
  {
   "cell_type": "code",
   "execution_count": 29,
   "metadata": {
    "collapsed": false,
    "deletable": true,
    "editable": true
   },
   "outputs": [],
   "source": [
    "dtype = np.float32\n",
    "N = 10"
   ]
  },
  {
   "cell_type": "code",
   "execution_count": 30,
   "metadata": {
    "collapsed": false,
    "deletable": true,
    "editable": true
   },
   "outputs": [],
   "source": [
    "import pyopencl.array as cl_array"
   ]
  },
  {
   "cell_type": "markdown",
   "metadata": {
    "deletable": true,
    "editable": true
   },
   "source": [
    "These alredy in GPU Device (Default: device = 0)"
   ]
  },
  {
   "cell_type": "code",
   "execution_count": 31,
   "metadata": {
    "collapsed": false,
    "deletable": true,
    "editable": true
   },
   "outputs": [],
   "source": [
    "a_gpu = cl_array.to_device(queue, np.random.rand(N).astype(dtype))\n",
    "b_gpu = cl_array.to_device(queue, np.ones(N).astype(dtype))\n",
    "c_gpu = cl_array.to_device(queue, np.zeros(N).astype(dtype))"
   ]
  },
  {
   "cell_type": "markdown",
   "metadata": {
    "deletable": true,
    "editable": true
   },
   "source": [
    "  ´a_gpu´ is a special data struct that manage numpy type array in the Device. This is a powerful tool shuch as we can use these structures as the classic numpy case (formally these data is a map in the DEVICE). This data structure is called ARRAY and is different from the linear mem alloc of OpenCL."
   ]
  },
  {
   "cell_type": "markdown",
   "metadata": {
    "deletable": true,
    "editable": true
   },
   "source": [
    "### Array properties"
   ]
  },
  {
   "cell_type": "code",
   "execution_count": 32,
   "metadata": {
    "collapsed": false,
    "deletable": true,
    "editable": true
   },
   "outputs": [
    {
     "name": "stdout",
     "output_type": "stream",
     "text": [
      "Classic print:  [ 0.7385717   0.11840069  0.71266776  0.89199919  0.80601317  0.7953859\n",
      "  0.78386664  0.90044475  0.43459898  0.56051666]\n",
      "Context own  :  [<pyopencl.Device 'GeForce GTX 1080' on 'NVIDIA CUDA' at 0x20c4630>, <pyopencl.Device 'GeForce GTX 1080' on 'NVIDIA CUDA' at 0x225c7f0>, <pyopencl.Device 'GeForce GTX 1080' on 'NVIDIA CUDA' at 0x22a2610>, <pyopencl.Device 'GeForce GTX 1080' on 'NVIDIA CUDA' at 0x22a2660>]\n",
      "Data struct  :  <pyopencl.cffi_cl.Buffer object at 0x7fed54051a50>\n",
      "Kernel dims? :  ((32,), (32,))\n",
      "Type         :  float32\n",
      "Size (Bytes) :  40\n",
      "Length       :  10\n",
      "Shape        :  (10,)\n",
      "Show astype  :  [  4873  16189  31760  15858  29029  16182  23055  16228  22241  16206\n",
      " -24983  16203 -21636  16200 -31860  16230 -31806  16094  32261  16143]\n"
     ]
    }
   ],
   "source": [
    "print 'Classic print: ',a_gpu\n",
    "print 'Context own  : ',a_gpu.context.devices\n",
    "print 'Data struct  : ',a_gpu.data\n",
    "print 'Kernel dims? : ',a_gpu.get_sizes(queue)\n",
    "print 'Type         : ',a_gpu.dtype\n",
    "print 'Size (Bytes) : ',a_gpu.nbytes\n",
    "print 'Length       : ',a_gpu.size\n",
    "print 'Shape        : ',a_gpu.shape\n",
    "print 'Show astype  : ',a_gpu.view(dtype=np.int16)"
   ]
  },
  {
   "cell_type": "markdown",
   "metadata": {
    "deletable": true,
    "editable": true
   },
   "source": [
    "This class of array structures in DEVICE have many operation ready for use (All in parallel optimized)"
   ]
  },
  {
   "cell_type": "code",
   "execution_count": 33,
   "metadata": {
    "collapsed": false,
    "deletable": true,
    "editable": true
   },
   "outputs": [
    {
     "data": {
      "text/plain": [
       "array([ 1.73857164,  1.11840069,  1.7126677 ,  1.89199924,  1.80601311,\n",
       "        1.79538584,  1.78386664,  1.90044475,  1.43459892,  1.5605166 ], dtype=float32)"
      ]
     },
     "execution_count": 33,
     "metadata": {},
     "output_type": "execute_result"
    }
   ],
   "source": [
    "(a_gpu+b_gpu).view() #works as print"
   ]
  },
  {
   "cell_type": "code",
   "execution_count": 34,
   "metadata": {
    "collapsed": false,
    "deletable": true,
    "editable": true
   },
   "outputs": [],
   "source": [
    "c_gpu = a_gpu*b_gpu #direct asignation between arrays"
   ]
  },
  {
   "cell_type": "code",
   "execution_count": 35,
   "metadata": {
    "collapsed": false,
    "deletable": true,
    "editable": true
   },
   "outputs": [
    {
     "name": "stdout",
     "output_type": "stream",
     "text": [
      "[ 0.7385717   0.11840069  0.71266776  0.89199919  0.80601317  0.7953859\n",
      "  0.78386664  0.90044475  0.43459898  0.56051666] [ 0.7385717   0.11840069  0.71266776  0.89199919  0.80601317  0.7953859\n",
      "  0.78386664  0.90044475  0.43459898  0.56051666]\n"
     ]
    }
   ],
   "source": [
    "print c_gpu, a_gpu"
   ]
  },
  {
   "cell_type": "code",
   "execution_count": 36,
   "metadata": {
    "collapsed": false,
    "deletable": true,
    "editable": true
   },
   "outputs": [],
   "source": [
    "assert (c_gpu.get()).all() == (a_gpu.get()).all() #get to evaluate the boolen in HOST"
   ]
  },
  {
   "cell_type": "code",
   "execution_count": 37,
   "metadata": {
    "collapsed": false,
    "deletable": true,
    "editable": true
   },
   "outputs": [
    {
     "data": {
      "text/plain": [
       "49152L"
      ]
     },
     "execution_count": 37,
     "metadata": {},
     "output_type": "execute_result"
    }
   ],
   "source": [
    "pycl.characterize.usable_local_mem_size(devs[0], nargs=None)"
   ]
  },
  {
   "cell_type": "markdown",
   "metadata": {
    "deletable": true,
    "editable": true
   },
   "source": [
    "More dimension!"
   ]
  },
  {
   "cell_type": "code",
   "execution_count": 38,
   "metadata": {
    "collapsed": false,
    "deletable": true,
    "editable": true
   },
   "outputs": [],
   "source": [
    "d_gpu = cl_array.to_device(queue, np.ones([N,N,N,N]).astype(dtype))\n",
    "e_gpu = cl_array.to_device(queue, np.random.rand(N*N*N*N).astype(dtype))"
   ]
  },
  {
   "cell_type": "code",
   "execution_count": 39,
   "metadata": {
    "collapsed": false,
    "deletable": true,
    "editable": true
   },
   "outputs": [
    {
     "name": "stdout",
     "output_type": "stream",
     "text": [
      "Context own  :  [<pyopencl.Device 'GeForce GTX 1080' on 'NVIDIA CUDA' at 0x20c4630>, <pyopencl.Device 'GeForce GTX 1080' on 'NVIDIA CUDA' at 0x225c7f0>, <pyopencl.Device 'GeForce GTX 1080' on 'NVIDIA CUDA' at 0x22a2610>, <pyopencl.Device 'GeForce GTX 1080' on 'NVIDIA CUDA' at 0x22a2660>]\n",
      "Data struct  :  <pyopencl.cffi_cl.Buffer object at 0x7fed6cc83e50>\n",
      "Kernel dims? :  ((10016,), (32,))\n",
      "Type         :  float32\n",
      "Size (Bytes) :  40000\n",
      "Length       :  10000\n",
      "Shape        :  (10, 10, 10, 10)\n"
     ]
    }
   ],
   "source": [
    "#print 'Classic print: ',d_gpu\n",
    "print 'Context own  : ',d_gpu.context.devices\n",
    "print 'Data struct  : ',d_gpu.data\n",
    "print 'Kernel dims? : ',d_gpu.get_sizes(queue)\n",
    "print 'Type         : ',d_gpu.dtype\n",
    "print 'Size (Bytes) : ',d_gpu.nbytes\n",
    "print 'Length       : ',d_gpu.size\n",
    "print 'Shape        : ',d_gpu.shape\n",
    "#print 'Show astype  : ',d_gpu.view(dtype=np.int16) #may not func poperly?"
   ]
  },
  {
   "cell_type": "code",
   "execution_count": 40,
   "metadata": {
    "collapsed": false,
    "deletable": true,
    "editable": true
   },
   "outputs": [],
   "source": [
    "e_gpu=e_gpu.reshape([N,N,N,N])"
   ]
  },
  {
   "cell_type": "code",
   "execution_count": 41,
   "metadata": {
    "collapsed": false,
    "deletable": true,
    "editable": true
   },
   "outputs": [
    {
     "name": "stdout",
     "output_type": "stream",
     "text": [
      "Context own  :  [<pyopencl.Device 'GeForce GTX 1080' on 'NVIDIA CUDA' at 0x20c4630>, <pyopencl.Device 'GeForce GTX 1080' on 'NVIDIA CUDA' at 0x225c7f0>, <pyopencl.Device 'GeForce GTX 1080' on 'NVIDIA CUDA' at 0x22a2610>, <pyopencl.Device 'GeForce GTX 1080' on 'NVIDIA CUDA' at 0x22a2660>]\n",
      "Data struct  :  <pyopencl.cffi_cl.Buffer object at 0x7fed2071e150>\n",
      "Kernel dims? :  ((10016,), (32,))\n",
      "Type         :  float32\n",
      "Size (Bytes) :  40000\n",
      "Length       :  10000\n",
      "Shape        :  (10, 10, 10, 10)\n"
     ]
    }
   ],
   "source": [
    "print 'Context own  : ',e_gpu.context.devices\n",
    "print 'Data struct  : ',e_gpu.data\n",
    "print 'Kernel dims? : ',e_gpu.get_sizes(queue)\n",
    "print 'Type         : ',e_gpu.dtype\n",
    "print 'Size (Bytes) : ',e_gpu.nbytes\n",
    "print 'Length       : ',e_gpu.size\n",
    "print 'Shape        : ',e_gpu.shape"
   ]
  },
  {
   "cell_type": "markdown",
   "metadata": {
    "deletable": true,
    "editable": true
   },
   "source": [
    "Other form of constructing arrays"
   ]
  },
  {
   "cell_type": "code",
   "execution_count": 42,
   "metadata": {
    "collapsed": false,
    "deletable": true,
    "editable": true
   },
   "outputs": [],
   "source": [
    "other_gpu = cl_array.zeros_like(a_gpu)\n",
    "other_gpu = cl_array.empty_like(a_gpu)\n",
    "other2_gpu = cl_array.arange(queue,1.,10.,0.5,dtype=dtype)"
   ]
  },
  {
   "cell_type": "code",
   "execution_count": 43,
   "metadata": {
    "collapsed": false,
    "deletable": true,
    "editable": true
   },
   "outputs": [
    {
     "data": {
      "text/plain": [
       "array([ 1. ,  1.5,  2. ,  2.5,  3. ,  3.5,  4. ,  4.5,  5. ,  5.5,  6. ,\n",
       "        6.5,  7. ,  7.5,  8. ,  8.5,  9. ,  9.5], dtype=float32)"
      ]
     },
     "execution_count": 43,
     "metadata": {},
     "output_type": "execute_result"
    }
   ],
   "source": [
    "other2_gpu"
   ]
  },
  {
   "cell_type": "markdown",
   "metadata": {
    "deletable": true,
    "editable": true
   },
   "source": [
    "### Array math implemented"
   ]
  },
  {
   "cell_type": "markdown",
   "metadata": {
    "deletable": true,
    "editable": true
   },
   "source": [
    "**REDUCTIONS**"
   ]
  },
  {
   "cell_type": "code",
   "execution_count": 44,
   "metadata": {
    "collapsed": false,
    "deletable": true,
    "editable": true
   },
   "outputs": [],
   "source": [
    "result = pycl.array.sum(d_gpu).get() # Get function copy data to HOST\n",
    "result_gpu = pycl.array.sum(e_gpu)"
   ]
  },
  {
   "cell_type": "code",
   "execution_count": 45,
   "metadata": {
    "collapsed": false,
    "deletable": true,
    "editable": true
   },
   "outputs": [
    {
     "data": {
      "text/plain": [
       "(numpy.ndarray, array(10000.0, dtype=float32))"
      ]
     },
     "execution_count": 45,
     "metadata": {},
     "output_type": "execute_result"
    }
   ],
   "source": [
    "type(result),result"
   ]
  },
  {
   "cell_type": "code",
   "execution_count": 46,
   "metadata": {
    "collapsed": false,
    "deletable": true,
    "editable": true
   },
   "outputs": [
    {
     "data": {
      "text/plain": [
       "pyopencl.array.Array"
      ]
     },
     "execution_count": 46,
     "metadata": {},
     "output_type": "execute_result"
    }
   ],
   "source": [
    "type(result_gpu)"
   ]
  },
  {
   "cell_type": "code",
   "execution_count": 47,
   "metadata": {
    "collapsed": false,
    "deletable": true,
    "editable": true
   },
   "outputs": [
    {
     "data": {
      "text/plain": [
       "array(4987.8896484375, dtype=float32)"
      ]
     },
     "execution_count": 47,
     "metadata": {},
     "output_type": "execute_result"
    }
   ],
   "source": [
    "pycl.array.dot(e_gpu,d_gpu)"
   ]
  },
  {
   "cell_type": "code",
   "execution_count": 48,
   "metadata": {
    "collapsed": false,
    "deletable": true,
    "editable": true
   },
   "outputs": [
    {
     "name": "stdout",
     "output_type": "stream",
     "text": [
      "7.30476604076e-05\n",
      "0.999942243099\n"
     ]
    }
   ],
   "source": [
    "print pycl.array.min(e_gpu).get()\n",
    "print pycl.array.max(e_gpu).get()"
   ]
  },
  {
   "cell_type": "markdown",
   "metadata": {
    "deletable": true,
    "editable": true
   },
   "source": [
    "**FUNCTIONS**"
   ]
  },
  {
   "cell_type": "code",
   "execution_count": 49,
   "metadata": {
    "collapsed": false,
    "deletable": true,
    "editable": true
   },
   "outputs": [],
   "source": [
    "from pyopencl import clmath "
   ]
  },
  {
   "cell_type": "code",
   "execution_count": 50,
   "metadata": {
    "collapsed": false,
    "deletable": true,
    "editable": true
   },
   "outputs": [
    {
     "data": {
      "text/plain": [
       "array([ 0.7394309 ,  0.99299884,  0.75662023,  0.62785727,  0.69238055,\n",
       "        0.70000923,  0.70818889,  0.62126154,  0.90703899,  0.84698057], dtype=float32)"
      ]
     },
     "execution_count": 50,
     "metadata": {},
     "output_type": "execute_result"
    }
   ],
   "source": [
    "clmath.cos(a_gpu)"
   ]
  },
  {
   "cell_type": "code",
   "execution_count": 51,
   "metadata": {
    "collapsed": false,
    "deletable": true,
    "editable": true
   },
   "outputs": [
    {
     "data": {
      "text/plain": [
       "array([ 0.85940194,  0.34409401,  0.8441965 ,  0.94445705,  0.89778233,\n",
       "        0.89184409,  0.88536245,  0.94891763,  0.6592412 ,  0.7486766 ], dtype=float32)"
      ]
     },
     "execution_count": 51,
     "metadata": {},
     "output_type": "execute_result"
    }
   ],
   "source": [
    "clmath.sqrt(a_gpu)"
   ]
  },
  {
   "cell_type": "markdown",
   "metadata": {
    "deletable": true,
    "editable": true
   },
   "source": [
    "**KERNELS**"
   ]
  },
  {
   "cell_type": "code",
   "execution_count": 43,
   "metadata": {
    "collapsed": false,
    "deletable": true,
    "editable": true
   },
   "outputs": [],
   "source": []
  }
 ],
 "metadata": {
  "kernelspec": {
   "display_name": "Python 2",
   "language": "python",
   "name": "python2"
  },
  "language_info": {
   "codemirror_mode": {
    "name": "ipython",
    "version": 2
   },
   "file_extension": ".py",
   "mimetype": "text/x-python",
   "name": "python",
   "nbconvert_exporter": "python",
   "pygments_lexer": "ipython2",
   "version": "2.7.12"
  }
 },
 "nbformat": 4,
 "nbformat_minor": 0
}
